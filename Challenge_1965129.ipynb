{
 "cells": [
  {
   "cell_type": "code",
   "execution_count": 1,
   "metadata": {},
   "outputs": [],
   "source": [
    "# Identification\n",
    "# assign the following string values\n",
    "yourNameSurname='Selim Yahia-Messaoud' # e.g.,  yourNameSurname='Mario Rossi'\n",
    "yourMatricolaNumber='1965129' # e.g.,  yourMatricolaNumber='12345678'\n",
    "yourStudentEMAIL='yahiamessaoud.1965129@studenti.uniroma1.it' # e.g.,  yourStudentEMAIL='rossim.12345678@studenti.uniroma1.it'"
   ]
  },
  {
   "cell_type": "markdown",
   "metadata": {},
   "source": [
    "# Machine Learning 2020/2021 - Challenge \n",
    "\n",
    "#### 1. Mandatory Rules\n",
    "#### 2. The Dataset\n",
    "- #### 2.1 Load the dataset\n",
    "- #### 2.2 Dataset Analysis\n",
    "\n",
    "#### 3. Classification\n",
    "- #### 3.1 Preprocessing\n",
    "- #### 3.2 Model Selection\n",
    "- #### 3.3 Evaluation\n",
    "\n",
    "#### 4. Summary\n",
    "\n",
    "\n",
    "<hr>\n",
    "\n",
    "## 1. Mandatory Rules (read carefully):\n",
    "- This year the results of the challenges will count 8/30 of your final score.\n",
    "- Only one submission is allowed. We will not consider multiple submissions.\n",
    "- Please remember your solution must be <b>\"YOUR SOLUTION\"</b>, hence you are requested to deliver your individual answers/arguments/opinions/critics.\n",
    "- Mail your solution (a <b>jupyter notebook</b>) only to stefano.faralli@unitelmasapienza(dot)it <b>10 days before the date of a written exam (NO EXCEPTIONS)</b> if you miss to deliver your solution you must wait the next (if any) available deadline. \n",
    "- The subject of your email must be: \"[Challenge_solution] NAME - SURNAME - MATRICOLA\".\n",
    "- Double check the subject of your email and the attachments.\n",
    "- In case you want to compress the attachment, <b>USE ONLY STANDARD ZIP compression</b> (NO RAR,7Z etc..).\n",
    "- <b>Please sumbit ONLY the notebook with SAVED OUTPUTS!</b>.\n",
    "- Your solution might be considered as the \"copy\" of others solutions, in that specific case the resulting score for all involved students will be 0/8.\n",
    "- Then read carefully all the part of the jupyter notebook and fill all fields.\n",
    "- <b>solutions (and correspondig points) are evaluated mainly on your thoughts/comments/opinions</b>.  \n",
    "- If you have questions <b>Don't write \"personal\" emails</b> to Stefano Faralli, instead <b>use our google group</b>.\n",
    "- A solution having a summary discussion with less than 500 words is evaluated with 0 points."
   ]
  },
  {
   "cell_type": "markdown",
   "metadata": {},
   "source": [
    "<hr>\n",
    "\n",
    "## 2. The Dataset (up to 1/8 points)\n",
    "<img width='400' src='/videogames.jpg'/>\n",
    "\n",
    "- The topic of the challenge is \"Video games\";\n",
    "- The dataset consists of one single csv file (\"video_games.csv\");\n",
    "- The full description of the dataset is available at: <a href='https://corgis-edu.github.io//corgis/csv/video_games/'>github project page</a>;\n",
    "\n",
    "[1] Cox, Joe. “What makes a blockbuster video game? An empirical analysis of US sales data.” Managerial and Decision Economics 35.3 (2014): 189-198\n",
    "\n",
    "## 2.1 Load the Dataset (up to 0.2/8 points)\n",
    "In the following two cells: a code cell and, a markdown cell, where: \n",
    "- you write the code to create a pandas DataFrame by loading the \"video_games.csv\" file.  \n",
    "- you describe the problems and the solution for loading the same csv file to a numpy datastructure."
   ]
  },
  {
   "cell_type": "code",
   "execution_count": 2,
   "metadata": {},
   "outputs": [
    {
     "data": {
      "text/html": [
       "<div>\n",
       "<style scoped>\n",
       "    .dataframe tbody tr th:only-of-type {\n",
       "        vertical-align: middle;\n",
       "    }\n",
       "\n",
       "    .dataframe tbody tr th {\n",
       "        vertical-align: top;\n",
       "    }\n",
       "\n",
       "    .dataframe thead th {\n",
       "        text-align: right;\n",
       "    }\n",
       "</style>\n",
       "<table border=\"1\" class=\"dataframe\">\n",
       "  <thead>\n",
       "    <tr style=\"text-align: right;\">\n",
       "      <th></th>\n",
       "      <th>Title</th>\n",
       "      <th>Features.Handheld?</th>\n",
       "      <th>Features.Max Players</th>\n",
       "      <th>Features.Multiplatform?</th>\n",
       "      <th>Features.Online?</th>\n",
       "      <th>Metadata.Genres</th>\n",
       "      <th>Metadata.Licensed?</th>\n",
       "      <th>Metadata.Publishers</th>\n",
       "      <th>Metadata.Sequel?</th>\n",
       "      <th>Metrics.Review Score</th>\n",
       "      <th>...</th>\n",
       "      <th>Length.Main + Extras.Average</th>\n",
       "      <th>Length.Main + Extras.Leisure</th>\n",
       "      <th>Length.Main + Extras.Median</th>\n",
       "      <th>Length.Main + Extras.Polled</th>\n",
       "      <th>Length.Main + Extras.Rushed</th>\n",
       "      <th>Length.Main Story.Average</th>\n",
       "      <th>Length.Main Story.Leisure</th>\n",
       "      <th>Length.Main Story.Median</th>\n",
       "      <th>Length.Main Story.Polled</th>\n",
       "      <th>Length.Main Story.Rushed</th>\n",
       "    </tr>\n",
       "  </thead>\n",
       "  <tbody>\n",
       "    <tr>\n",
       "      <th>0</th>\n",
       "      <td>Super Mario 64 DS</td>\n",
       "      <td>True</td>\n",
       "      <td>1</td>\n",
       "      <td>True</td>\n",
       "      <td>True</td>\n",
       "      <td>Action</td>\n",
       "      <td>True</td>\n",
       "      <td>Nintendo</td>\n",
       "      <td>True</td>\n",
       "      <td>85</td>\n",
       "      <td>...</td>\n",
       "      <td>24.916667</td>\n",
       "      <td>29.966667</td>\n",
       "      <td>25.000000</td>\n",
       "      <td>16</td>\n",
       "      <td>18.333333</td>\n",
       "      <td>14.333333</td>\n",
       "      <td>18.316667</td>\n",
       "      <td>14.500000</td>\n",
       "      <td>21</td>\n",
       "      <td>9.700000</td>\n",
       "    </tr>\n",
       "    <tr>\n",
       "      <th>1</th>\n",
       "      <td>Lumines: Puzzle Fusion</td>\n",
       "      <td>True</td>\n",
       "      <td>1</td>\n",
       "      <td>True</td>\n",
       "      <td>True</td>\n",
       "      <td>Strategy</td>\n",
       "      <td>True</td>\n",
       "      <td>Ubisoft</td>\n",
       "      <td>True</td>\n",
       "      <td>89</td>\n",
       "      <td>...</td>\n",
       "      <td>9.750000</td>\n",
       "      <td>9.866667</td>\n",
       "      <td>9.750000</td>\n",
       "      <td>2</td>\n",
       "      <td>9.616667</td>\n",
       "      <td>10.333333</td>\n",
       "      <td>11.083333</td>\n",
       "      <td>10.000000</td>\n",
       "      <td>3</td>\n",
       "      <td>9.583333</td>\n",
       "    </tr>\n",
       "    <tr>\n",
       "      <th>2</th>\n",
       "      <td>WarioWare Touched!</td>\n",
       "      <td>True</td>\n",
       "      <td>2</td>\n",
       "      <td>True</td>\n",
       "      <td>True</td>\n",
       "      <td>Action,Racing / Driving,Sports</td>\n",
       "      <td>True</td>\n",
       "      <td>Nintendo</td>\n",
       "      <td>True</td>\n",
       "      <td>81</td>\n",
       "      <td>...</td>\n",
       "      <td>3.850000</td>\n",
       "      <td>5.666667</td>\n",
       "      <td>3.333333</td>\n",
       "      <td>11</td>\n",
       "      <td>2.783333</td>\n",
       "      <td>1.916667</td>\n",
       "      <td>2.933333</td>\n",
       "      <td>1.833333</td>\n",
       "      <td>30</td>\n",
       "      <td>1.433333</td>\n",
       "    </tr>\n",
       "    <tr>\n",
       "      <th>3</th>\n",
       "      <td>Hot Shots Golf: Open Tee</td>\n",
       "      <td>True</td>\n",
       "      <td>1</td>\n",
       "      <td>True</td>\n",
       "      <td>True</td>\n",
       "      <td>Sports</td>\n",
       "      <td>True</td>\n",
       "      <td>Sony</td>\n",
       "      <td>True</td>\n",
       "      <td>81</td>\n",
       "      <td>...</td>\n",
       "      <td>0.000000</td>\n",
       "      <td>0.000000</td>\n",
       "      <td>0.000000</td>\n",
       "      <td>0</td>\n",
       "      <td>0.000000</td>\n",
       "      <td>0.000000</td>\n",
       "      <td>0.000000</td>\n",
       "      <td>0.000000</td>\n",
       "      <td>0</td>\n",
       "      <td>0.000000</td>\n",
       "    </tr>\n",
       "    <tr>\n",
       "      <th>4</th>\n",
       "      <td>Spider-Man 2</td>\n",
       "      <td>True</td>\n",
       "      <td>1</td>\n",
       "      <td>True</td>\n",
       "      <td>True</td>\n",
       "      <td>Action</td>\n",
       "      <td>True</td>\n",
       "      <td>Activision</td>\n",
       "      <td>True</td>\n",
       "      <td>61</td>\n",
       "      <td>...</td>\n",
       "      <td>12.766667</td>\n",
       "      <td>17.316667</td>\n",
       "      <td>12.500000</td>\n",
       "      <td>12</td>\n",
       "      <td>10.483333</td>\n",
       "      <td>8.350000</td>\n",
       "      <td>11.083333</td>\n",
       "      <td>8.000000</td>\n",
       "      <td>23</td>\n",
       "      <td>5.333333</td>\n",
       "    </tr>\n",
       "    <tr>\n",
       "      <th>5</th>\n",
       "      <td>The Urbz: Sims in the City</td>\n",
       "      <td>True</td>\n",
       "      <td>1</td>\n",
       "      <td>True</td>\n",
       "      <td>True</td>\n",
       "      <td>Simulation</td>\n",
       "      <td>True</td>\n",
       "      <td>EA</td>\n",
       "      <td>True</td>\n",
       "      <td>67</td>\n",
       "      <td>...</td>\n",
       "      <td>20.833333</td>\n",
       "      <td>25.200000</td>\n",
       "      <td>20.000000</td>\n",
       "      <td>3</td>\n",
       "      <td>16.450000</td>\n",
       "      <td>15.500000</td>\n",
       "      <td>15.750000</td>\n",
       "      <td>15.500000</td>\n",
       "      <td>2</td>\n",
       "      <td>15.250000</td>\n",
       "    </tr>\n",
       "    <tr>\n",
       "      <th>6</th>\n",
       "      <td>Ridge Racer</td>\n",
       "      <td>True</td>\n",
       "      <td>1</td>\n",
       "      <td>True</td>\n",
       "      <td>True</td>\n",
       "      <td>Racing / Driving</td>\n",
       "      <td>True</td>\n",
       "      <td>Namco</td>\n",
       "      <td>True</td>\n",
       "      <td>88</td>\n",
       "      <td>...</td>\n",
       "      <td>0.883333</td>\n",
       "      <td>0.933333</td>\n",
       "      <td>0.883333</td>\n",
       "      <td>2</td>\n",
       "      <td>0.833333</td>\n",
       "      <td>0.616667</td>\n",
       "      <td>0.783333</td>\n",
       "      <td>0.533333</td>\n",
       "      <td>3</td>\n",
       "      <td>0.450000</td>\n",
       "    </tr>\n",
       "    <tr>\n",
       "      <th>7</th>\n",
       "      <td>Metal Gear Ac!d</td>\n",
       "      <td>True</td>\n",
       "      <td>1</td>\n",
       "      <td>True</td>\n",
       "      <td>True</td>\n",
       "      <td>Strategy</td>\n",
       "      <td>True</td>\n",
       "      <td>Konami</td>\n",
       "      <td>True</td>\n",
       "      <td>75</td>\n",
       "      <td>...</td>\n",
       "      <td>24.833333</td>\n",
       "      <td>27.483333</td>\n",
       "      <td>25.100000</td>\n",
       "      <td>6</td>\n",
       "      <td>21.916667</td>\n",
       "      <td>20.700000</td>\n",
       "      <td>23.600000</td>\n",
       "      <td>20.783333</td>\n",
       "      <td>11</td>\n",
       "      <td>17.883333</td>\n",
       "    </tr>\n",
       "    <tr>\n",
       "      <th>8</th>\n",
       "      <td>Madden NFL 2005</td>\n",
       "      <td>True</td>\n",
       "      <td>1</td>\n",
       "      <td>True</td>\n",
       "      <td>True</td>\n",
       "      <td>Sports</td>\n",
       "      <td>True</td>\n",
       "      <td>EA</td>\n",
       "      <td>True</td>\n",
       "      <td>68</td>\n",
       "      <td>...</td>\n",
       "      <td>0.000000</td>\n",
       "      <td>0.000000</td>\n",
       "      <td>0.000000</td>\n",
       "      <td>0</td>\n",
       "      <td>0.000000</td>\n",
       "      <td>0.000000</td>\n",
       "      <td>0.000000</td>\n",
       "      <td>0.000000</td>\n",
       "      <td>0</td>\n",
       "      <td>0.000000</td>\n",
       "    </tr>\n",
       "    <tr>\n",
       "      <th>9</th>\n",
       "      <td>Pokmon Dash</td>\n",
       "      <td>True</td>\n",
       "      <td>1</td>\n",
       "      <td>True</td>\n",
       "      <td>True</td>\n",
       "      <td>Racing / Driving</td>\n",
       "      <td>True</td>\n",
       "      <td>Nintendo</td>\n",
       "      <td>True</td>\n",
       "      <td>46</td>\n",
       "      <td>...</td>\n",
       "      <td>0.000000</td>\n",
       "      <td>0.000000</td>\n",
       "      <td>0.000000</td>\n",
       "      <td>0</td>\n",
       "      <td>0.000000</td>\n",
       "      <td>1.116667</td>\n",
       "      <td>1.200000</td>\n",
       "      <td>1.083333</td>\n",
       "      <td>3</td>\n",
       "      <td>1.050000</td>\n",
       "    </tr>\n",
       "    <tr>\n",
       "      <th>10</th>\n",
       "      <td>Dynasty Warriors</td>\n",
       "      <td>True</td>\n",
       "      <td>1</td>\n",
       "      <td>True</td>\n",
       "      <td>True</td>\n",
       "      <td>Action,Adventure,Role-Playing (RPG)</td>\n",
       "      <td>True</td>\n",
       "      <td>NaN</td>\n",
       "      <td>True</td>\n",
       "      <td>62</td>\n",
       "      <td>...</td>\n",
       "      <td>0.000000</td>\n",
       "      <td>0.000000</td>\n",
       "      <td>0.000000</td>\n",
       "      <td>0</td>\n",
       "      <td>0.000000</td>\n",
       "      <td>8.883333</td>\n",
       "      <td>18.050000</td>\n",
       "      <td>2.083333</td>\n",
       "      <td>4</td>\n",
       "      <td>3.116667</td>\n",
       "    </tr>\n",
       "    <tr>\n",
       "      <th>11</th>\n",
       "      <td>Feel the Magic XY/XX</td>\n",
       "      <td>True</td>\n",
       "      <td>1</td>\n",
       "      <td>True</td>\n",
       "      <td>True</td>\n",
       "      <td>Action,Adventure,Racing / Driving,Sports</td>\n",
       "      <td>True</td>\n",
       "      <td>Sega</td>\n",
       "      <td>True</td>\n",
       "      <td>75</td>\n",
       "      <td>...</td>\n",
       "      <td>3.100000</td>\n",
       "      <td>3.150000</td>\n",
       "      <td>3.100000</td>\n",
       "      <td>2</td>\n",
       "      <td>3.050000</td>\n",
       "      <td>2.850000</td>\n",
       "      <td>3.783333</td>\n",
       "      <td>2.983333</td>\n",
       "      <td>7</td>\n",
       "      <td>2.300000</td>\n",
       "    </tr>\n",
       "    <tr>\n",
       "      <th>12</th>\n",
       "      <td>Ridge Racer DS</td>\n",
       "      <td>True</td>\n",
       "      <td>1</td>\n",
       "      <td>True</td>\n",
       "      <td>True</td>\n",
       "      <td>Racing / Driving</td>\n",
       "      <td>True</td>\n",
       "      <td>Namco</td>\n",
       "      <td>True</td>\n",
       "      <td>63</td>\n",
       "      <td>...</td>\n",
       "      <td>0.000000</td>\n",
       "      <td>0.000000</td>\n",
       "      <td>0.000000</td>\n",
       "      <td>0</td>\n",
       "      <td>0.000000</td>\n",
       "      <td>2.233333</td>\n",
       "      <td>2.233333</td>\n",
       "      <td>2.233333</td>\n",
       "      <td>1</td>\n",
       "      <td>2.233333</td>\n",
       "    </tr>\n",
       "    <tr>\n",
       "      <th>13</th>\n",
       "      <td>Darkstalkers Chronicle: The Chaos Tower</td>\n",
       "      <td>True</td>\n",
       "      <td>1</td>\n",
       "      <td>True</td>\n",
       "      <td>True</td>\n",
       "      <td>Action</td>\n",
       "      <td>True</td>\n",
       "      <td>Capcom</td>\n",
       "      <td>True</td>\n",
       "      <td>74</td>\n",
       "      <td>...</td>\n",
       "      <td>0.000000</td>\n",
       "      <td>0.000000</td>\n",
       "      <td>0.000000</td>\n",
       "      <td>0</td>\n",
       "      <td>0.000000</td>\n",
       "      <td>1.633333</td>\n",
       "      <td>2.400000</td>\n",
       "      <td>2.000000</td>\n",
       "      <td>7</td>\n",
       "      <td>1.066667</td>\n",
       "    </tr>\n",
       "    <tr>\n",
       "      <th>14</th>\n",
       "      <td>Ape Escape Academy</td>\n",
       "      <td>True</td>\n",
       "      <td>4</td>\n",
       "      <td>True</td>\n",
       "      <td>True</td>\n",
       "      <td>Action,Sports</td>\n",
       "      <td>True</td>\n",
       "      <td>Sony</td>\n",
       "      <td>True</td>\n",
       "      <td>51</td>\n",
       "      <td>...</td>\n",
       "      <td>0.000000</td>\n",
       "      <td>0.000000</td>\n",
       "      <td>0.000000</td>\n",
       "      <td>0</td>\n",
       "      <td>0.000000</td>\n",
       "      <td>1.883333</td>\n",
       "      <td>1.883333</td>\n",
       "      <td>1.883333</td>\n",
       "      <td>1</td>\n",
       "      <td>1.883333</td>\n",
       "    </tr>\n",
       "    <tr>\n",
       "      <th>15</th>\n",
       "      <td>Polarium</td>\n",
       "      <td>True</td>\n",
       "      <td>1</td>\n",
       "      <td>True</td>\n",
       "      <td>True</td>\n",
       "      <td>Strategy</td>\n",
       "      <td>True</td>\n",
       "      <td>Nintendo</td>\n",
       "      <td>True</td>\n",
       "      <td>73</td>\n",
       "      <td>...</td>\n",
       "      <td>0.000000</td>\n",
       "      <td>0.000000</td>\n",
       "      <td>0.000000</td>\n",
       "      <td>0</td>\n",
       "      <td>0.000000</td>\n",
       "      <td>5.416667</td>\n",
       "      <td>5.783333</td>\n",
       "      <td>5.750000</td>\n",
       "      <td>4</td>\n",
       "      <td>4.866667</td>\n",
       "    </tr>\n",
       "    <tr>\n",
       "      <th>16</th>\n",
       "      <td>Asphalt: Urban GT</td>\n",
       "      <td>True</td>\n",
       "      <td>1</td>\n",
       "      <td>True</td>\n",
       "      <td>True</td>\n",
       "      <td>Racing / Driving,Simulation</td>\n",
       "      <td>True</td>\n",
       "      <td>Ubisoft</td>\n",
       "      <td>True</td>\n",
       "      <td>60</td>\n",
       "      <td>...</td>\n",
       "      <td>0.000000</td>\n",
       "      <td>0.000000</td>\n",
       "      <td>0.000000</td>\n",
       "      <td>0</td>\n",
       "      <td>0.000000</td>\n",
       "      <td>15.000000</td>\n",
       "      <td>15.000000</td>\n",
       "      <td>15.000000</td>\n",
       "      <td>1</td>\n",
       "      <td>15.000000</td>\n",
       "    </tr>\n",
       "    <tr>\n",
       "      <th>17</th>\n",
       "      <td>Zoo Keeper</td>\n",
       "      <td>True</td>\n",
       "      <td>1</td>\n",
       "      <td>True</td>\n",
       "      <td>True</td>\n",
       "      <td>Action</td>\n",
       "      <td>True</td>\n",
       "      <td>NaN</td>\n",
       "      <td>True</td>\n",
       "      <td>74</td>\n",
       "      <td>...</td>\n",
       "      <td>0.000000</td>\n",
       "      <td>0.000000</td>\n",
       "      <td>0.000000</td>\n",
       "      <td>0</td>\n",
       "      <td>0.000000</td>\n",
       "      <td>6.000000</td>\n",
       "      <td>7.750000</td>\n",
       "      <td>5.000000</td>\n",
       "      <td>4</td>\n",
       "      <td>4.750000</td>\n",
       "    </tr>\n",
       "    <tr>\n",
       "      <th>18</th>\n",
       "      <td>Mr. DRILLER: Drill Spirits</td>\n",
       "      <td>True</td>\n",
       "      <td>1</td>\n",
       "      <td>True</td>\n",
       "      <td>True</td>\n",
       "      <td>Action</td>\n",
       "      <td>True</td>\n",
       "      <td>Namco</td>\n",
       "      <td>True</td>\n",
       "      <td>72</td>\n",
       "      <td>...</td>\n",
       "      <td>0.000000</td>\n",
       "      <td>0.000000</td>\n",
       "      <td>0.000000</td>\n",
       "      <td>0</td>\n",
       "      <td>0.000000</td>\n",
       "      <td>9.883333</td>\n",
       "      <td>10.983333</td>\n",
       "      <td>9.883333</td>\n",
       "      <td>2</td>\n",
       "      <td>8.766667</td>\n",
       "    </tr>\n",
       "    <tr>\n",
       "      <th>19</th>\n",
       "      <td>Sprung</td>\n",
       "      <td>True</td>\n",
       "      <td>1</td>\n",
       "      <td>True</td>\n",
       "      <td>True</td>\n",
       "      <td>Adventure</td>\n",
       "      <td>True</td>\n",
       "      <td>Ubisoft</td>\n",
       "      <td>True</td>\n",
       "      <td>48</td>\n",
       "      <td>...</td>\n",
       "      <td>0.000000</td>\n",
       "      <td>0.000000</td>\n",
       "      <td>0.000000</td>\n",
       "      <td>0</td>\n",
       "      <td>0.000000</td>\n",
       "      <td>0.000000</td>\n",
       "      <td>0.000000</td>\n",
       "      <td>0.000000</td>\n",
       "      <td>0</td>\n",
       "      <td>0.000000</td>\n",
       "    </tr>\n",
       "  </tbody>\n",
       "</table>\n",
       "<p>20 rows × 36 columns</p>\n",
       "</div>"
      ],
      "text/plain": [
       "                                      Title  Features.Handheld?  \\\n",
       "0                         Super Mario 64 DS                True   \n",
       "1                    Lumines: Puzzle Fusion                True   \n",
       "2                        WarioWare Touched!                True   \n",
       "3                  Hot Shots Golf: Open Tee                True   \n",
       "4                              Spider-Man 2                True   \n",
       "5                The Urbz: Sims in the City                True   \n",
       "6                               Ridge Racer                True   \n",
       "7                           Metal Gear Ac!d                True   \n",
       "8                           Madden NFL 2005                True   \n",
       "9                               Pokmon Dash                True   \n",
       "10                         Dynasty Warriors                True   \n",
       "11                     Feel the Magic XY/XX                True   \n",
       "12                           Ridge Racer DS                True   \n",
       "13  Darkstalkers Chronicle: The Chaos Tower                True   \n",
       "14                       Ape Escape Academy                True   \n",
       "15                                 Polarium                True   \n",
       "16                        Asphalt: Urban GT                True   \n",
       "17                               Zoo Keeper                True   \n",
       "18               Mr. DRILLER: Drill Spirits                True   \n",
       "19                                   Sprung                True   \n",
       "\n",
       "    Features.Max Players  Features.Multiplatform?  Features.Online?  \\\n",
       "0                      1                     True              True   \n",
       "1                      1                     True              True   \n",
       "2                      2                     True              True   \n",
       "3                      1                     True              True   \n",
       "4                      1                     True              True   \n",
       "5                      1                     True              True   \n",
       "6                      1                     True              True   \n",
       "7                      1                     True              True   \n",
       "8                      1                     True              True   \n",
       "9                      1                     True              True   \n",
       "10                     1                     True              True   \n",
       "11                     1                     True              True   \n",
       "12                     1                     True              True   \n",
       "13                     1                     True              True   \n",
       "14                     4                     True              True   \n",
       "15                     1                     True              True   \n",
       "16                     1                     True              True   \n",
       "17                     1                     True              True   \n",
       "18                     1                     True              True   \n",
       "19                     1                     True              True   \n",
       "\n",
       "                             Metadata.Genres  Metadata.Licensed?  \\\n",
       "0                                     Action                True   \n",
       "1                                   Strategy                True   \n",
       "2             Action,Racing / Driving,Sports                True   \n",
       "3                                     Sports                True   \n",
       "4                                     Action                True   \n",
       "5                                 Simulation                True   \n",
       "6                           Racing / Driving                True   \n",
       "7                                   Strategy                True   \n",
       "8                                     Sports                True   \n",
       "9                           Racing / Driving                True   \n",
       "10       Action,Adventure,Role-Playing (RPG)                True   \n",
       "11  Action,Adventure,Racing / Driving,Sports                True   \n",
       "12                          Racing / Driving                True   \n",
       "13                                    Action                True   \n",
       "14                             Action,Sports                True   \n",
       "15                                  Strategy                True   \n",
       "16               Racing / Driving,Simulation                True   \n",
       "17                                    Action                True   \n",
       "18                                    Action                True   \n",
       "19                                 Adventure                True   \n",
       "\n",
       "   Metadata.Publishers  Metadata.Sequel?  Metrics.Review Score  ...  \\\n",
       "0             Nintendo              True                    85  ...   \n",
       "1              Ubisoft              True                    89  ...   \n",
       "2             Nintendo              True                    81  ...   \n",
       "3                 Sony              True                    81  ...   \n",
       "4           Activision              True                    61  ...   \n",
       "5                   EA              True                    67  ...   \n",
       "6                Namco              True                    88  ...   \n",
       "7               Konami              True                    75  ...   \n",
       "8                   EA              True                    68  ...   \n",
       "9             Nintendo              True                    46  ...   \n",
       "10                 NaN              True                    62  ...   \n",
       "11                Sega              True                    75  ...   \n",
       "12               Namco              True                    63  ...   \n",
       "13              Capcom              True                    74  ...   \n",
       "14                Sony              True                    51  ...   \n",
       "15            Nintendo              True                    73  ...   \n",
       "16             Ubisoft              True                    60  ...   \n",
       "17                 NaN              True                    74  ...   \n",
       "18               Namco              True                    72  ...   \n",
       "19             Ubisoft              True                    48  ...   \n",
       "\n",
       "    Length.Main + Extras.Average  Length.Main + Extras.Leisure  \\\n",
       "0                      24.916667                     29.966667   \n",
       "1                       9.750000                      9.866667   \n",
       "2                       3.850000                      5.666667   \n",
       "3                       0.000000                      0.000000   \n",
       "4                      12.766667                     17.316667   \n",
       "5                      20.833333                     25.200000   \n",
       "6                       0.883333                      0.933333   \n",
       "7                      24.833333                     27.483333   \n",
       "8                       0.000000                      0.000000   \n",
       "9                       0.000000                      0.000000   \n",
       "10                      0.000000                      0.000000   \n",
       "11                      3.100000                      3.150000   \n",
       "12                      0.000000                      0.000000   \n",
       "13                      0.000000                      0.000000   \n",
       "14                      0.000000                      0.000000   \n",
       "15                      0.000000                      0.000000   \n",
       "16                      0.000000                      0.000000   \n",
       "17                      0.000000                      0.000000   \n",
       "18                      0.000000                      0.000000   \n",
       "19                      0.000000                      0.000000   \n",
       "\n",
       "   Length.Main + Extras.Median Length.Main + Extras.Polled  \\\n",
       "0                    25.000000                          16   \n",
       "1                     9.750000                           2   \n",
       "2                     3.333333                          11   \n",
       "3                     0.000000                           0   \n",
       "4                    12.500000                          12   \n",
       "5                    20.000000                           3   \n",
       "6                     0.883333                           2   \n",
       "7                    25.100000                           6   \n",
       "8                     0.000000                           0   \n",
       "9                     0.000000                           0   \n",
       "10                    0.000000                           0   \n",
       "11                    3.100000                           2   \n",
       "12                    0.000000                           0   \n",
       "13                    0.000000                           0   \n",
       "14                    0.000000                           0   \n",
       "15                    0.000000                           0   \n",
       "16                    0.000000                           0   \n",
       "17                    0.000000                           0   \n",
       "18                    0.000000                           0   \n",
       "19                    0.000000                           0   \n",
       "\n",
       "    Length.Main + Extras.Rushed  Length.Main Story.Average  \\\n",
       "0                     18.333333                  14.333333   \n",
       "1                      9.616667                  10.333333   \n",
       "2                      2.783333                   1.916667   \n",
       "3                      0.000000                   0.000000   \n",
       "4                     10.483333                   8.350000   \n",
       "5                     16.450000                  15.500000   \n",
       "6                      0.833333                   0.616667   \n",
       "7                     21.916667                  20.700000   \n",
       "8                      0.000000                   0.000000   \n",
       "9                      0.000000                   1.116667   \n",
       "10                     0.000000                   8.883333   \n",
       "11                     3.050000                   2.850000   \n",
       "12                     0.000000                   2.233333   \n",
       "13                     0.000000                   1.633333   \n",
       "14                     0.000000                   1.883333   \n",
       "15                     0.000000                   5.416667   \n",
       "16                     0.000000                  15.000000   \n",
       "17                     0.000000                   6.000000   \n",
       "18                     0.000000                   9.883333   \n",
       "19                     0.000000                   0.000000   \n",
       "\n",
       "    Length.Main Story.Leisure  Length.Main Story.Median  \\\n",
       "0                   18.316667                 14.500000   \n",
       "1                   11.083333                 10.000000   \n",
       "2                    2.933333                  1.833333   \n",
       "3                    0.000000                  0.000000   \n",
       "4                   11.083333                  8.000000   \n",
       "5                   15.750000                 15.500000   \n",
       "6                    0.783333                  0.533333   \n",
       "7                   23.600000                 20.783333   \n",
       "8                    0.000000                  0.000000   \n",
       "9                    1.200000                  1.083333   \n",
       "10                  18.050000                  2.083333   \n",
       "11                   3.783333                  2.983333   \n",
       "12                   2.233333                  2.233333   \n",
       "13                   2.400000                  2.000000   \n",
       "14                   1.883333                  1.883333   \n",
       "15                   5.783333                  5.750000   \n",
       "16                  15.000000                 15.000000   \n",
       "17                   7.750000                  5.000000   \n",
       "18                  10.983333                  9.883333   \n",
       "19                   0.000000                  0.000000   \n",
       "\n",
       "    Length.Main Story.Polled  Length.Main Story.Rushed  \n",
       "0                         21                  9.700000  \n",
       "1                          3                  9.583333  \n",
       "2                         30                  1.433333  \n",
       "3                          0                  0.000000  \n",
       "4                         23                  5.333333  \n",
       "5                          2                 15.250000  \n",
       "6                          3                  0.450000  \n",
       "7                         11                 17.883333  \n",
       "8                          0                  0.000000  \n",
       "9                          3                  1.050000  \n",
       "10                         4                  3.116667  \n",
       "11                         7                  2.300000  \n",
       "12                         1                  2.233333  \n",
       "13                         7                  1.066667  \n",
       "14                         1                  1.883333  \n",
       "15                         4                  4.866667  \n",
       "16                         1                 15.000000  \n",
       "17                         4                  4.750000  \n",
       "18                         2                  8.766667  \n",
       "19                         0                  0.000000  \n",
       "\n",
       "[20 rows x 36 columns]"
      ]
     },
     "execution_count": 2,
     "metadata": {},
     "output_type": "execute_result"
    }
   ],
   "source": [
    "import numpy as np\n",
    "import pandas as pd\n",
    "\n",
    "df = pd.read_csv('video_games.csv')\n",
    "df.head(20)"
   ]
  },
  {
   "cell_type": "markdown",
   "metadata": {},
   "source": [
    "Numpy data structures are really convenient to perform fast computations, but all the elements have to be of the same type. Therefore to load this csv file into a Numpy data structure, we would need to get rid of the headers and convert all elements to floats. Categorical features represented by strings such as game title, publishers or genres can be processed into floats by assigning an id to each category.\n",
    "Pandas "
   ]
  },
  {
   "cell_type": "markdown",
   "metadata": {},
   "source": [
    "## 2.2 Dataset Analysis (up to 0.8/8 points)\n",
    "In the following code cell (feel free to create new cells), remember to comment your code snippets:\n",
    "\n",
    "1) Print the total number of samples;\n",
    "\n",
    "2) Print a table with the first 15 samples;\n",
    "\n",
    "3) Plot the histogram distribution of \"Features.Handheld?\";\n",
    "\n",
    "4) Plot the histogram distribution of \"Features.Online?\";\n",
    "\n",
    "5) Plot the histogram distribution of \"Metadata.Publishers\";\t\n",
    "\n",
    "6) Perform feature importance analysis; "
   ]
  },
  {
   "cell_type": "code",
   "execution_count": 3,
   "metadata": {},
   "outputs": [
    {
     "name": "stdout",
     "output_type": "stream",
     "text": [
      "There are 1212 samples in this dataset\n"
     ]
    }
   ],
   "source": [
    "#2.2.1 Print the total number of samples\n",
    "\n",
    "print(\"There are {} samples in this dataset\".format(df.shape[0]))"
   ]
  },
  {
   "cell_type": "code",
   "execution_count": 4,
   "metadata": {},
   "outputs": [
    {
     "name": "stdout",
     "output_type": "stream",
     "text": [
      "These are the first 15 samples :\n"
     ]
    },
    {
     "data": {
      "text/html": [
       "<div>\n",
       "<style scoped>\n",
       "    .dataframe tbody tr th:only-of-type {\n",
       "        vertical-align: middle;\n",
       "    }\n",
       "\n",
       "    .dataframe tbody tr th {\n",
       "        vertical-align: top;\n",
       "    }\n",
       "\n",
       "    .dataframe thead th {\n",
       "        text-align: right;\n",
       "    }\n",
       "</style>\n",
       "<table border=\"1\" class=\"dataframe\">\n",
       "  <thead>\n",
       "    <tr style=\"text-align: right;\">\n",
       "      <th></th>\n",
       "      <th>Title</th>\n",
       "      <th>Features.Handheld?</th>\n",
       "      <th>Features.Max Players</th>\n",
       "      <th>Features.Multiplatform?</th>\n",
       "      <th>Features.Online?</th>\n",
       "      <th>Metadata.Genres</th>\n",
       "      <th>Metadata.Licensed?</th>\n",
       "      <th>Metadata.Publishers</th>\n",
       "      <th>Metadata.Sequel?</th>\n",
       "      <th>Metrics.Review Score</th>\n",
       "      <th>...</th>\n",
       "      <th>Length.Main + Extras.Average</th>\n",
       "      <th>Length.Main + Extras.Leisure</th>\n",
       "      <th>Length.Main + Extras.Median</th>\n",
       "      <th>Length.Main + Extras.Polled</th>\n",
       "      <th>Length.Main + Extras.Rushed</th>\n",
       "      <th>Length.Main Story.Average</th>\n",
       "      <th>Length.Main Story.Leisure</th>\n",
       "      <th>Length.Main Story.Median</th>\n",
       "      <th>Length.Main Story.Polled</th>\n",
       "      <th>Length.Main Story.Rushed</th>\n",
       "    </tr>\n",
       "  </thead>\n",
       "  <tbody>\n",
       "    <tr>\n",
       "      <th>0</th>\n",
       "      <td>Super Mario 64 DS</td>\n",
       "      <td>True</td>\n",
       "      <td>1</td>\n",
       "      <td>True</td>\n",
       "      <td>True</td>\n",
       "      <td>Action</td>\n",
       "      <td>True</td>\n",
       "      <td>Nintendo</td>\n",
       "      <td>True</td>\n",
       "      <td>85</td>\n",
       "      <td>...</td>\n",
       "      <td>24.916667</td>\n",
       "      <td>29.966667</td>\n",
       "      <td>25.000000</td>\n",
       "      <td>16</td>\n",
       "      <td>18.333333</td>\n",
       "      <td>14.333333</td>\n",
       "      <td>18.316667</td>\n",
       "      <td>14.500000</td>\n",
       "      <td>21</td>\n",
       "      <td>9.700000</td>\n",
       "    </tr>\n",
       "    <tr>\n",
       "      <th>1</th>\n",
       "      <td>Lumines: Puzzle Fusion</td>\n",
       "      <td>True</td>\n",
       "      <td>1</td>\n",
       "      <td>True</td>\n",
       "      <td>True</td>\n",
       "      <td>Strategy</td>\n",
       "      <td>True</td>\n",
       "      <td>Ubisoft</td>\n",
       "      <td>True</td>\n",
       "      <td>89</td>\n",
       "      <td>...</td>\n",
       "      <td>9.750000</td>\n",
       "      <td>9.866667</td>\n",
       "      <td>9.750000</td>\n",
       "      <td>2</td>\n",
       "      <td>9.616667</td>\n",
       "      <td>10.333333</td>\n",
       "      <td>11.083333</td>\n",
       "      <td>10.000000</td>\n",
       "      <td>3</td>\n",
       "      <td>9.583333</td>\n",
       "    </tr>\n",
       "    <tr>\n",
       "      <th>2</th>\n",
       "      <td>WarioWare Touched!</td>\n",
       "      <td>True</td>\n",
       "      <td>2</td>\n",
       "      <td>True</td>\n",
       "      <td>True</td>\n",
       "      <td>Action,Racing / Driving,Sports</td>\n",
       "      <td>True</td>\n",
       "      <td>Nintendo</td>\n",
       "      <td>True</td>\n",
       "      <td>81</td>\n",
       "      <td>...</td>\n",
       "      <td>3.850000</td>\n",
       "      <td>5.666667</td>\n",
       "      <td>3.333333</td>\n",
       "      <td>11</td>\n",
       "      <td>2.783333</td>\n",
       "      <td>1.916667</td>\n",
       "      <td>2.933333</td>\n",
       "      <td>1.833333</td>\n",
       "      <td>30</td>\n",
       "      <td>1.433333</td>\n",
       "    </tr>\n",
       "    <tr>\n",
       "      <th>3</th>\n",
       "      <td>Hot Shots Golf: Open Tee</td>\n",
       "      <td>True</td>\n",
       "      <td>1</td>\n",
       "      <td>True</td>\n",
       "      <td>True</td>\n",
       "      <td>Sports</td>\n",
       "      <td>True</td>\n",
       "      <td>Sony</td>\n",
       "      <td>True</td>\n",
       "      <td>81</td>\n",
       "      <td>...</td>\n",
       "      <td>0.000000</td>\n",
       "      <td>0.000000</td>\n",
       "      <td>0.000000</td>\n",
       "      <td>0</td>\n",
       "      <td>0.000000</td>\n",
       "      <td>0.000000</td>\n",
       "      <td>0.000000</td>\n",
       "      <td>0.000000</td>\n",
       "      <td>0</td>\n",
       "      <td>0.000000</td>\n",
       "    </tr>\n",
       "    <tr>\n",
       "      <th>4</th>\n",
       "      <td>Spider-Man 2</td>\n",
       "      <td>True</td>\n",
       "      <td>1</td>\n",
       "      <td>True</td>\n",
       "      <td>True</td>\n",
       "      <td>Action</td>\n",
       "      <td>True</td>\n",
       "      <td>Activision</td>\n",
       "      <td>True</td>\n",
       "      <td>61</td>\n",
       "      <td>...</td>\n",
       "      <td>12.766667</td>\n",
       "      <td>17.316667</td>\n",
       "      <td>12.500000</td>\n",
       "      <td>12</td>\n",
       "      <td>10.483333</td>\n",
       "      <td>8.350000</td>\n",
       "      <td>11.083333</td>\n",
       "      <td>8.000000</td>\n",
       "      <td>23</td>\n",
       "      <td>5.333333</td>\n",
       "    </tr>\n",
       "    <tr>\n",
       "      <th>5</th>\n",
       "      <td>The Urbz: Sims in the City</td>\n",
       "      <td>True</td>\n",
       "      <td>1</td>\n",
       "      <td>True</td>\n",
       "      <td>True</td>\n",
       "      <td>Simulation</td>\n",
       "      <td>True</td>\n",
       "      <td>EA</td>\n",
       "      <td>True</td>\n",
       "      <td>67</td>\n",
       "      <td>...</td>\n",
       "      <td>20.833333</td>\n",
       "      <td>25.200000</td>\n",
       "      <td>20.000000</td>\n",
       "      <td>3</td>\n",
       "      <td>16.450000</td>\n",
       "      <td>15.500000</td>\n",
       "      <td>15.750000</td>\n",
       "      <td>15.500000</td>\n",
       "      <td>2</td>\n",
       "      <td>15.250000</td>\n",
       "    </tr>\n",
       "    <tr>\n",
       "      <th>6</th>\n",
       "      <td>Ridge Racer</td>\n",
       "      <td>True</td>\n",
       "      <td>1</td>\n",
       "      <td>True</td>\n",
       "      <td>True</td>\n",
       "      <td>Racing / Driving</td>\n",
       "      <td>True</td>\n",
       "      <td>Namco</td>\n",
       "      <td>True</td>\n",
       "      <td>88</td>\n",
       "      <td>...</td>\n",
       "      <td>0.883333</td>\n",
       "      <td>0.933333</td>\n",
       "      <td>0.883333</td>\n",
       "      <td>2</td>\n",
       "      <td>0.833333</td>\n",
       "      <td>0.616667</td>\n",
       "      <td>0.783333</td>\n",
       "      <td>0.533333</td>\n",
       "      <td>3</td>\n",
       "      <td>0.450000</td>\n",
       "    </tr>\n",
       "    <tr>\n",
       "      <th>7</th>\n",
       "      <td>Metal Gear Ac!d</td>\n",
       "      <td>True</td>\n",
       "      <td>1</td>\n",
       "      <td>True</td>\n",
       "      <td>True</td>\n",
       "      <td>Strategy</td>\n",
       "      <td>True</td>\n",
       "      <td>Konami</td>\n",
       "      <td>True</td>\n",
       "      <td>75</td>\n",
       "      <td>...</td>\n",
       "      <td>24.833333</td>\n",
       "      <td>27.483333</td>\n",
       "      <td>25.100000</td>\n",
       "      <td>6</td>\n",
       "      <td>21.916667</td>\n",
       "      <td>20.700000</td>\n",
       "      <td>23.600000</td>\n",
       "      <td>20.783333</td>\n",
       "      <td>11</td>\n",
       "      <td>17.883333</td>\n",
       "    </tr>\n",
       "    <tr>\n",
       "      <th>8</th>\n",
       "      <td>Madden NFL 2005</td>\n",
       "      <td>True</td>\n",
       "      <td>1</td>\n",
       "      <td>True</td>\n",
       "      <td>True</td>\n",
       "      <td>Sports</td>\n",
       "      <td>True</td>\n",
       "      <td>EA</td>\n",
       "      <td>True</td>\n",
       "      <td>68</td>\n",
       "      <td>...</td>\n",
       "      <td>0.000000</td>\n",
       "      <td>0.000000</td>\n",
       "      <td>0.000000</td>\n",
       "      <td>0</td>\n",
       "      <td>0.000000</td>\n",
       "      <td>0.000000</td>\n",
       "      <td>0.000000</td>\n",
       "      <td>0.000000</td>\n",
       "      <td>0</td>\n",
       "      <td>0.000000</td>\n",
       "    </tr>\n",
       "    <tr>\n",
       "      <th>9</th>\n",
       "      <td>Pokmon Dash</td>\n",
       "      <td>True</td>\n",
       "      <td>1</td>\n",
       "      <td>True</td>\n",
       "      <td>True</td>\n",
       "      <td>Racing / Driving</td>\n",
       "      <td>True</td>\n",
       "      <td>Nintendo</td>\n",
       "      <td>True</td>\n",
       "      <td>46</td>\n",
       "      <td>...</td>\n",
       "      <td>0.000000</td>\n",
       "      <td>0.000000</td>\n",
       "      <td>0.000000</td>\n",
       "      <td>0</td>\n",
       "      <td>0.000000</td>\n",
       "      <td>1.116667</td>\n",
       "      <td>1.200000</td>\n",
       "      <td>1.083333</td>\n",
       "      <td>3</td>\n",
       "      <td>1.050000</td>\n",
       "    </tr>\n",
       "    <tr>\n",
       "      <th>10</th>\n",
       "      <td>Dynasty Warriors</td>\n",
       "      <td>True</td>\n",
       "      <td>1</td>\n",
       "      <td>True</td>\n",
       "      <td>True</td>\n",
       "      <td>Action,Adventure,Role-Playing (RPG)</td>\n",
       "      <td>True</td>\n",
       "      <td>NaN</td>\n",
       "      <td>True</td>\n",
       "      <td>62</td>\n",
       "      <td>...</td>\n",
       "      <td>0.000000</td>\n",
       "      <td>0.000000</td>\n",
       "      <td>0.000000</td>\n",
       "      <td>0</td>\n",
       "      <td>0.000000</td>\n",
       "      <td>8.883333</td>\n",
       "      <td>18.050000</td>\n",
       "      <td>2.083333</td>\n",
       "      <td>4</td>\n",
       "      <td>3.116667</td>\n",
       "    </tr>\n",
       "    <tr>\n",
       "      <th>11</th>\n",
       "      <td>Feel the Magic XY/XX</td>\n",
       "      <td>True</td>\n",
       "      <td>1</td>\n",
       "      <td>True</td>\n",
       "      <td>True</td>\n",
       "      <td>Action,Adventure,Racing / Driving,Sports</td>\n",
       "      <td>True</td>\n",
       "      <td>Sega</td>\n",
       "      <td>True</td>\n",
       "      <td>75</td>\n",
       "      <td>...</td>\n",
       "      <td>3.100000</td>\n",
       "      <td>3.150000</td>\n",
       "      <td>3.100000</td>\n",
       "      <td>2</td>\n",
       "      <td>3.050000</td>\n",
       "      <td>2.850000</td>\n",
       "      <td>3.783333</td>\n",
       "      <td>2.983333</td>\n",
       "      <td>7</td>\n",
       "      <td>2.300000</td>\n",
       "    </tr>\n",
       "    <tr>\n",
       "      <th>12</th>\n",
       "      <td>Ridge Racer DS</td>\n",
       "      <td>True</td>\n",
       "      <td>1</td>\n",
       "      <td>True</td>\n",
       "      <td>True</td>\n",
       "      <td>Racing / Driving</td>\n",
       "      <td>True</td>\n",
       "      <td>Namco</td>\n",
       "      <td>True</td>\n",
       "      <td>63</td>\n",
       "      <td>...</td>\n",
       "      <td>0.000000</td>\n",
       "      <td>0.000000</td>\n",
       "      <td>0.000000</td>\n",
       "      <td>0</td>\n",
       "      <td>0.000000</td>\n",
       "      <td>2.233333</td>\n",
       "      <td>2.233333</td>\n",
       "      <td>2.233333</td>\n",
       "      <td>1</td>\n",
       "      <td>2.233333</td>\n",
       "    </tr>\n",
       "    <tr>\n",
       "      <th>13</th>\n",
       "      <td>Darkstalkers Chronicle: The Chaos Tower</td>\n",
       "      <td>True</td>\n",
       "      <td>1</td>\n",
       "      <td>True</td>\n",
       "      <td>True</td>\n",
       "      <td>Action</td>\n",
       "      <td>True</td>\n",
       "      <td>Capcom</td>\n",
       "      <td>True</td>\n",
       "      <td>74</td>\n",
       "      <td>...</td>\n",
       "      <td>0.000000</td>\n",
       "      <td>0.000000</td>\n",
       "      <td>0.000000</td>\n",
       "      <td>0</td>\n",
       "      <td>0.000000</td>\n",
       "      <td>1.633333</td>\n",
       "      <td>2.400000</td>\n",
       "      <td>2.000000</td>\n",
       "      <td>7</td>\n",
       "      <td>1.066667</td>\n",
       "    </tr>\n",
       "    <tr>\n",
       "      <th>14</th>\n",
       "      <td>Ape Escape Academy</td>\n",
       "      <td>True</td>\n",
       "      <td>4</td>\n",
       "      <td>True</td>\n",
       "      <td>True</td>\n",
       "      <td>Action,Sports</td>\n",
       "      <td>True</td>\n",
       "      <td>Sony</td>\n",
       "      <td>True</td>\n",
       "      <td>51</td>\n",
       "      <td>...</td>\n",
       "      <td>0.000000</td>\n",
       "      <td>0.000000</td>\n",
       "      <td>0.000000</td>\n",
       "      <td>0</td>\n",
       "      <td>0.000000</td>\n",
       "      <td>1.883333</td>\n",
       "      <td>1.883333</td>\n",
       "      <td>1.883333</td>\n",
       "      <td>1</td>\n",
       "      <td>1.883333</td>\n",
       "    </tr>\n",
       "    <tr>\n",
       "      <th>15</th>\n",
       "      <td>Polarium</td>\n",
       "      <td>True</td>\n",
       "      <td>1</td>\n",
       "      <td>True</td>\n",
       "      <td>True</td>\n",
       "      <td>Strategy</td>\n",
       "      <td>True</td>\n",
       "      <td>Nintendo</td>\n",
       "      <td>True</td>\n",
       "      <td>73</td>\n",
       "      <td>...</td>\n",
       "      <td>0.000000</td>\n",
       "      <td>0.000000</td>\n",
       "      <td>0.000000</td>\n",
       "      <td>0</td>\n",
       "      <td>0.000000</td>\n",
       "      <td>5.416667</td>\n",
       "      <td>5.783333</td>\n",
       "      <td>5.750000</td>\n",
       "      <td>4</td>\n",
       "      <td>4.866667</td>\n",
       "    </tr>\n",
       "    <tr>\n",
       "      <th>16</th>\n",
       "      <td>Asphalt: Urban GT</td>\n",
       "      <td>True</td>\n",
       "      <td>1</td>\n",
       "      <td>True</td>\n",
       "      <td>True</td>\n",
       "      <td>Racing / Driving,Simulation</td>\n",
       "      <td>True</td>\n",
       "      <td>Ubisoft</td>\n",
       "      <td>True</td>\n",
       "      <td>60</td>\n",
       "      <td>...</td>\n",
       "      <td>0.000000</td>\n",
       "      <td>0.000000</td>\n",
       "      <td>0.000000</td>\n",
       "      <td>0</td>\n",
       "      <td>0.000000</td>\n",
       "      <td>15.000000</td>\n",
       "      <td>15.000000</td>\n",
       "      <td>15.000000</td>\n",
       "      <td>1</td>\n",
       "      <td>15.000000</td>\n",
       "    </tr>\n",
       "    <tr>\n",
       "      <th>17</th>\n",
       "      <td>Zoo Keeper</td>\n",
       "      <td>True</td>\n",
       "      <td>1</td>\n",
       "      <td>True</td>\n",
       "      <td>True</td>\n",
       "      <td>Action</td>\n",
       "      <td>True</td>\n",
       "      <td>NaN</td>\n",
       "      <td>True</td>\n",
       "      <td>74</td>\n",
       "      <td>...</td>\n",
       "      <td>0.000000</td>\n",
       "      <td>0.000000</td>\n",
       "      <td>0.000000</td>\n",
       "      <td>0</td>\n",
       "      <td>0.000000</td>\n",
       "      <td>6.000000</td>\n",
       "      <td>7.750000</td>\n",
       "      <td>5.000000</td>\n",
       "      <td>4</td>\n",
       "      <td>4.750000</td>\n",
       "    </tr>\n",
       "    <tr>\n",
       "      <th>18</th>\n",
       "      <td>Mr. DRILLER: Drill Spirits</td>\n",
       "      <td>True</td>\n",
       "      <td>1</td>\n",
       "      <td>True</td>\n",
       "      <td>True</td>\n",
       "      <td>Action</td>\n",
       "      <td>True</td>\n",
       "      <td>Namco</td>\n",
       "      <td>True</td>\n",
       "      <td>72</td>\n",
       "      <td>...</td>\n",
       "      <td>0.000000</td>\n",
       "      <td>0.000000</td>\n",
       "      <td>0.000000</td>\n",
       "      <td>0</td>\n",
       "      <td>0.000000</td>\n",
       "      <td>9.883333</td>\n",
       "      <td>10.983333</td>\n",
       "      <td>9.883333</td>\n",
       "      <td>2</td>\n",
       "      <td>8.766667</td>\n",
       "    </tr>\n",
       "    <tr>\n",
       "      <th>19</th>\n",
       "      <td>Sprung</td>\n",
       "      <td>True</td>\n",
       "      <td>1</td>\n",
       "      <td>True</td>\n",
       "      <td>True</td>\n",
       "      <td>Adventure</td>\n",
       "      <td>True</td>\n",
       "      <td>Ubisoft</td>\n",
       "      <td>True</td>\n",
       "      <td>48</td>\n",
       "      <td>...</td>\n",
       "      <td>0.000000</td>\n",
       "      <td>0.000000</td>\n",
       "      <td>0.000000</td>\n",
       "      <td>0</td>\n",
       "      <td>0.000000</td>\n",
       "      <td>0.000000</td>\n",
       "      <td>0.000000</td>\n",
       "      <td>0.000000</td>\n",
       "      <td>0</td>\n",
       "      <td>0.000000</td>\n",
       "    </tr>\n",
       "  </tbody>\n",
       "</table>\n",
       "<p>20 rows × 36 columns</p>\n",
       "</div>"
      ],
      "text/plain": [
       "                                      Title  Features.Handheld?  \\\n",
       "0                         Super Mario 64 DS                True   \n",
       "1                    Lumines: Puzzle Fusion                True   \n",
       "2                        WarioWare Touched!                True   \n",
       "3                  Hot Shots Golf: Open Tee                True   \n",
       "4                              Spider-Man 2                True   \n",
       "5                The Urbz: Sims in the City                True   \n",
       "6                               Ridge Racer                True   \n",
       "7                           Metal Gear Ac!d                True   \n",
       "8                           Madden NFL 2005                True   \n",
       "9                               Pokmon Dash                True   \n",
       "10                         Dynasty Warriors                True   \n",
       "11                     Feel the Magic XY/XX                True   \n",
       "12                           Ridge Racer DS                True   \n",
       "13  Darkstalkers Chronicle: The Chaos Tower                True   \n",
       "14                       Ape Escape Academy                True   \n",
       "15                                 Polarium                True   \n",
       "16                        Asphalt: Urban GT                True   \n",
       "17                               Zoo Keeper                True   \n",
       "18               Mr. DRILLER: Drill Spirits                True   \n",
       "19                                   Sprung                True   \n",
       "\n",
       "    Features.Max Players  Features.Multiplatform?  Features.Online?  \\\n",
       "0                      1                     True              True   \n",
       "1                      1                     True              True   \n",
       "2                      2                     True              True   \n",
       "3                      1                     True              True   \n",
       "4                      1                     True              True   \n",
       "5                      1                     True              True   \n",
       "6                      1                     True              True   \n",
       "7                      1                     True              True   \n",
       "8                      1                     True              True   \n",
       "9                      1                     True              True   \n",
       "10                     1                     True              True   \n",
       "11                     1                     True              True   \n",
       "12                     1                     True              True   \n",
       "13                     1                     True              True   \n",
       "14                     4                     True              True   \n",
       "15                     1                     True              True   \n",
       "16                     1                     True              True   \n",
       "17                     1                     True              True   \n",
       "18                     1                     True              True   \n",
       "19                     1                     True              True   \n",
       "\n",
       "                             Metadata.Genres  Metadata.Licensed?  \\\n",
       "0                                     Action                True   \n",
       "1                                   Strategy                True   \n",
       "2             Action,Racing / Driving,Sports                True   \n",
       "3                                     Sports                True   \n",
       "4                                     Action                True   \n",
       "5                                 Simulation                True   \n",
       "6                           Racing / Driving                True   \n",
       "7                                   Strategy                True   \n",
       "8                                     Sports                True   \n",
       "9                           Racing / Driving                True   \n",
       "10       Action,Adventure,Role-Playing (RPG)                True   \n",
       "11  Action,Adventure,Racing / Driving,Sports                True   \n",
       "12                          Racing / Driving                True   \n",
       "13                                    Action                True   \n",
       "14                             Action,Sports                True   \n",
       "15                                  Strategy                True   \n",
       "16               Racing / Driving,Simulation                True   \n",
       "17                                    Action                True   \n",
       "18                                    Action                True   \n",
       "19                                 Adventure                True   \n",
       "\n",
       "   Metadata.Publishers  Metadata.Sequel?  Metrics.Review Score  ...  \\\n",
       "0             Nintendo              True                    85  ...   \n",
       "1              Ubisoft              True                    89  ...   \n",
       "2             Nintendo              True                    81  ...   \n",
       "3                 Sony              True                    81  ...   \n",
       "4           Activision              True                    61  ...   \n",
       "5                   EA              True                    67  ...   \n",
       "6                Namco              True                    88  ...   \n",
       "7               Konami              True                    75  ...   \n",
       "8                   EA              True                    68  ...   \n",
       "9             Nintendo              True                    46  ...   \n",
       "10                 NaN              True                    62  ...   \n",
       "11                Sega              True                    75  ...   \n",
       "12               Namco              True                    63  ...   \n",
       "13              Capcom              True                    74  ...   \n",
       "14                Sony              True                    51  ...   \n",
       "15            Nintendo              True                    73  ...   \n",
       "16             Ubisoft              True                    60  ...   \n",
       "17                 NaN              True                    74  ...   \n",
       "18               Namco              True                    72  ...   \n",
       "19             Ubisoft              True                    48  ...   \n",
       "\n",
       "    Length.Main + Extras.Average  Length.Main + Extras.Leisure  \\\n",
       "0                      24.916667                     29.966667   \n",
       "1                       9.750000                      9.866667   \n",
       "2                       3.850000                      5.666667   \n",
       "3                       0.000000                      0.000000   \n",
       "4                      12.766667                     17.316667   \n",
       "5                      20.833333                     25.200000   \n",
       "6                       0.883333                      0.933333   \n",
       "7                      24.833333                     27.483333   \n",
       "8                       0.000000                      0.000000   \n",
       "9                       0.000000                      0.000000   \n",
       "10                      0.000000                      0.000000   \n",
       "11                      3.100000                      3.150000   \n",
       "12                      0.000000                      0.000000   \n",
       "13                      0.000000                      0.000000   \n",
       "14                      0.000000                      0.000000   \n",
       "15                      0.000000                      0.000000   \n",
       "16                      0.000000                      0.000000   \n",
       "17                      0.000000                      0.000000   \n",
       "18                      0.000000                      0.000000   \n",
       "19                      0.000000                      0.000000   \n",
       "\n",
       "   Length.Main + Extras.Median Length.Main + Extras.Polled  \\\n",
       "0                    25.000000                          16   \n",
       "1                     9.750000                           2   \n",
       "2                     3.333333                          11   \n",
       "3                     0.000000                           0   \n",
       "4                    12.500000                          12   \n",
       "5                    20.000000                           3   \n",
       "6                     0.883333                           2   \n",
       "7                    25.100000                           6   \n",
       "8                     0.000000                           0   \n",
       "9                     0.000000                           0   \n",
       "10                    0.000000                           0   \n",
       "11                    3.100000                           2   \n",
       "12                    0.000000                           0   \n",
       "13                    0.000000                           0   \n",
       "14                    0.000000                           0   \n",
       "15                    0.000000                           0   \n",
       "16                    0.000000                           0   \n",
       "17                    0.000000                           0   \n",
       "18                    0.000000                           0   \n",
       "19                    0.000000                           0   \n",
       "\n",
       "    Length.Main + Extras.Rushed  Length.Main Story.Average  \\\n",
       "0                     18.333333                  14.333333   \n",
       "1                      9.616667                  10.333333   \n",
       "2                      2.783333                   1.916667   \n",
       "3                      0.000000                   0.000000   \n",
       "4                     10.483333                   8.350000   \n",
       "5                     16.450000                  15.500000   \n",
       "6                      0.833333                   0.616667   \n",
       "7                     21.916667                  20.700000   \n",
       "8                      0.000000                   0.000000   \n",
       "9                      0.000000                   1.116667   \n",
       "10                     0.000000                   8.883333   \n",
       "11                     3.050000                   2.850000   \n",
       "12                     0.000000                   2.233333   \n",
       "13                     0.000000                   1.633333   \n",
       "14                     0.000000                   1.883333   \n",
       "15                     0.000000                   5.416667   \n",
       "16                     0.000000                  15.000000   \n",
       "17                     0.000000                   6.000000   \n",
       "18                     0.000000                   9.883333   \n",
       "19                     0.000000                   0.000000   \n",
       "\n",
       "    Length.Main Story.Leisure  Length.Main Story.Median  \\\n",
       "0                   18.316667                 14.500000   \n",
       "1                   11.083333                 10.000000   \n",
       "2                    2.933333                  1.833333   \n",
       "3                    0.000000                  0.000000   \n",
       "4                   11.083333                  8.000000   \n",
       "5                   15.750000                 15.500000   \n",
       "6                    0.783333                  0.533333   \n",
       "7                   23.600000                 20.783333   \n",
       "8                    0.000000                  0.000000   \n",
       "9                    1.200000                  1.083333   \n",
       "10                  18.050000                  2.083333   \n",
       "11                   3.783333                  2.983333   \n",
       "12                   2.233333                  2.233333   \n",
       "13                   2.400000                  2.000000   \n",
       "14                   1.883333                  1.883333   \n",
       "15                   5.783333                  5.750000   \n",
       "16                  15.000000                 15.000000   \n",
       "17                   7.750000                  5.000000   \n",
       "18                  10.983333                  9.883333   \n",
       "19                   0.000000                  0.000000   \n",
       "\n",
       "    Length.Main Story.Polled  Length.Main Story.Rushed  \n",
       "0                         21                  9.700000  \n",
       "1                          3                  9.583333  \n",
       "2                         30                  1.433333  \n",
       "3                          0                  0.000000  \n",
       "4                         23                  5.333333  \n",
       "5                          2                 15.250000  \n",
       "6                          3                  0.450000  \n",
       "7                         11                 17.883333  \n",
       "8                          0                  0.000000  \n",
       "9                          3                  1.050000  \n",
       "10                         4                  3.116667  \n",
       "11                         7                  2.300000  \n",
       "12                         1                  2.233333  \n",
       "13                         7                  1.066667  \n",
       "14                         1                  1.883333  \n",
       "15                         4                  4.866667  \n",
       "16                         1                 15.000000  \n",
       "17                         4                  4.750000  \n",
       "18                         2                  8.766667  \n",
       "19                         0                  0.000000  \n",
       "\n",
       "[20 rows x 36 columns]"
      ]
     },
     "execution_count": 4,
     "metadata": {},
     "output_type": "execute_result"
    }
   ],
   "source": [
    "#2.2.2 Print a table with the first 15 samples\n",
    "\n",
    "print(\"These are the first 15 samples :\")\n",
    "\n",
    "df.head(20)"
   ]
  },
  {
   "cell_type": "code",
   "execution_count": 5,
   "metadata": {},
   "outputs": [
    {
     "data": {
      "text/plain": [
       "<matplotlib.axes._subplots.AxesSubplot at 0x1e4ecfd5280>"
      ]
     },
     "execution_count": 5,
     "metadata": {},
     "output_type": "execute_result"
    },
    {
     "data": {
      "image/png": "[encoded data removed]",
      "text/plain": [
       "<Figure size 432x288 with 1 Axes>"
      ]
     },
     "metadata": {
      "needs_background": "light"
     },
     "output_type": "display_data"
    }
   ],
   "source": [
    "#2.2.3 Plot the histogram distribution of \"Features.Handheld?\"\n",
    "\n",
    "import matplotlib.pyplot as plt\n",
    "\n",
    "plt.figure()\n",
    "df[\"Features.Handheld?\"].astype(int).plot.hist() #Since this feature is a boolean, we need to cast it into an integer to plot it."
   ]
  },
  {
   "cell_type": "markdown",
   "metadata": {},
   "source": [
    "All the elements of the dataset have the same value for this feature (True). It will not bring any information that may help us during classification so we will not make use of this feature in our classifier."
   ]
  },
  {
   "cell_type": "code",
   "execution_count": 6,
   "metadata": {},
   "outputs": [
    {
     "data": {
      "text/plain": [
       "<matplotlib.axes._subplots.AxesSubplot at 0x1e4ed0c6d90>"
      ]
     },
     "execution_count": 6,
     "metadata": {},
     "output_type": "execute_result"
    },
    {
     "data": {
      "image/png": "[encoded data removed]",
      "text/plain": [
       "<Figure size 432x288 with 1 Axes>"
      ]
     },
     "metadata": {
      "needs_background": "light"
     },
     "output_type": "display_data"
    }
   ],
   "source": [
    "#2.2.4 Plot the histogram distribution of \"Features.Online?\"\n",
    "\n",
    "plt.figure()\n",
    "df[\"Features.Online?\"].astype(int).plot.hist() #Again, this feature is a boolean so we cast them into integers"
   ]
  },
  {
   "cell_type": "markdown",
   "metadata": {},
   "source": [
    "We notice the same phenomenon so we will not make use of this feature in our classifier."
   ]
  },
  {
   "cell_type": "code",
   "execution_count": 7,
   "metadata": {},
   "outputs": [
    {
     "data": {
      "text/plain": [
       "<matplotlib.axes._subplots.AxesSubplot at 0x1e4ed149ee0>"
      ]
     },
     "execution_count": 7,
     "metadata": {},
     "output_type": "execute_result"
    },
    {
     "data": {
      "image/png": "[encoded data removed]",
      "text/plain": [
       "<Figure size 432x288 with 1 Axes>"
      ]
     },
     "metadata": {
      "needs_background": "light"
     },
     "output_type": "display_data"
    }
   ],
   "source": [
    "#2.2.5 Plot the histogram distribution of \"Metadata.Publishers\"\n",
    "\n",
    "plt.figure()\n",
    "df[\"Metadata.Publishers\"].value_counts().plot(kind='bar') #Since this feature is categorical data, we use the 'bar' plot this time to produce the following histogram"
   ]
  },
  {
   "cell_type": "markdown",
   "metadata": {},
   "source": [
    "While the plot above looks normal, a deeper look at this feature shows that there are quite a few missing values. Note that only NaN are considered as missing values, so if missing values have been replaced by zeros on float features, it won't show with the command below."
   ]
  },
  {
   "cell_type": "code",
   "execution_count": 8,
   "metadata": {},
   "outputs": [
    {
     "name": "stdout",
     "output_type": "stream",
     "text": [
      "<class 'pandas.core.frame.DataFrame'>\n",
      "RangeIndex: 1212 entries, 0 to 1211\n",
      "Data columns (total 36 columns):\n",
      " #   Column                         Non-Null Count  Dtype  \n",
      "---  ------                         --------------  -----  \n",
      " 0   Title                          1212 non-null   object \n",
      " 1   Features.Handheld?             1212 non-null   bool   \n",
      " 2   Features.Max Players           1212 non-null   int64  \n",
      " 3   Features.Multiplatform?        1212 non-null   bool   \n",
      " 4   Features.Online?               1212 non-null   bool   \n",
      " 5   Metadata.Genres                1212 non-null   object \n",
      " 6   Metadata.Licensed?             1212 non-null   bool   \n",
      " 7   Metadata.Publishers            948 non-null    object \n",
      " 8   Metadata.Sequel?               1212 non-null   bool   \n",
      " 9   Metrics.Review Score           1212 non-null   int64  \n",
      " 10  Metrics.Sales                  1212 non-null   float64\n",
      " 11  Metrics.Used Price             1212 non-null   float64\n",
      " 12  Release.Console                1212 non-null   object \n",
      " 13  Release.Rating                 1212 non-null   object \n",
      " 14  Release.Re-release?            1212 non-null   bool   \n",
      " 15  Release.Year                   1212 non-null   int64  \n",
      " 16  Length.All PlayStyles.Average  1212 non-null   float64\n",
      " 17  Length.All PlayStyles.Leisure  1212 non-null   float64\n",
      " 18  Length.All PlayStyles.Median   1212 non-null   float64\n",
      " 19  Length.All PlayStyles.Polled   1212 non-null   int64  \n",
      " 20  Length.All PlayStyles.Rushed   1212 non-null   float64\n",
      " 21  Length.Completionists.Average  1212 non-null   float64\n",
      " 22  Length.Completionists.Leisure  1212 non-null   float64\n",
      " 23  Length.Completionists.Median   1212 non-null   float64\n",
      " 24  Length.Completionists.Polled   1212 non-null   int64  \n",
      " 25  Length.Completionists.Rushed   1212 non-null   float64\n",
      " 26  Length.Main + Extras.Average   1212 non-null   float64\n",
      " 27  Length.Main + Extras.Leisure   1212 non-null   float64\n",
      " 28  Length.Main + Extras.Median    1212 non-null   float64\n",
      " 29  Length.Main + Extras.Polled    1212 non-null   int64  \n",
      " 30  Length.Main + Extras.Rushed    1212 non-null   float64\n",
      " 31  Length.Main Story.Average      1212 non-null   float64\n",
      " 32  Length.Main Story.Leisure      1212 non-null   float64\n",
      " 33  Length.Main Story.Median       1212 non-null   float64\n",
      " 34  Length.Main Story.Polled       1212 non-null   int64  \n",
      " 35  Length.Main Story.Rushed       1212 non-null   float64\n",
      "dtypes: bool(6), float64(18), int64(7), object(5)\n",
      "memory usage: 291.3+ KB\n"
     ]
    }
   ],
   "source": [
    "df.info()"
   ]
  },
  {
   "cell_type": "markdown",
   "metadata": {},
   "source": [
    "It would be unfortunate to drop the feature \"Metadata.Publishers\", given that there are only about 20% of missing values so we will later try to use an imputer to fix this problem."
   ]
  },
  {
   "cell_type": "code",
   "execution_count": 9,
   "metadata": {},
   "outputs": [
    {
     "name": "stdout",
     "output_type": "stream",
     "text": [
      "We get rid of the following columns because they contain no usefull information :\n",
      "Features.Handheld?\n",
      "Features.Multiplatform?\n",
      "Features.Online?\n",
      "Metadata.Licensed?\n",
      "Metadata.Sequel?\n",
      "Release.Re-release?\n"
     ]
    }
   ],
   "source": [
    "#2.2.6 Perform feature importance analysis\n",
    "\n",
    "#The first thing is to get rid of the columns that bring no information such as 'Features.Handheld?' or 'Features.Online?'\n",
    "\n",
    "print(\"We get rid of the following columns because they contain no usefull information :\")\n",
    "\n",
    "for col in df.columns:\n",
    "    if df[col].nunique() == 1: #if the number of unique values is 1\n",
    "        print(col)\n",
    "        df.drop(col,inplace=True,axis=1) #we delete the column        "
   ]
  },
  {
   "cell_type": "markdown",
   "metadata": {},
   "source": [
    "We want to feed our model only with the features that will allow it to easily discriminate games into different categories. We also want to make sure that there's no redundancy of information between different columns so that all meaningfull features have the same 'weight' in the decision process. To do that we plot the correlation between columns (the darker the square the more correlated it is)."
   ]
  },
  {
   "cell_type": "code",
   "execution_count": 10,
   "metadata": {},
   "outputs": [
    {
     "data": {
      "text/plain": [
       "<matplotlib.axes._subplots.AxesSubplot at 0x1e4fd107c70>"
      ]
     },
     "execution_count": 10,
     "metadata": {},
     "output_type": "execute_result"
    },
    {
     "data": {
      "image/png": "[encoded data removed]",
      "text/plain": [
       "<Figure size 1440x720 with 2 Axes>"
      ]
     },
     "metadata": {
      "needs_background": "light"
     },
     "output_type": "display_data"
    }
   ],
   "source": [
    "import seaborn as sns #I will be using this library for this part because it's convenient for EDA visualisation\n",
    "\n",
    "plt.figure(figsize=(20,10))\n",
    "sns.heatmap(df.corr(),cmap=\"YlGnBu\",square=True,linewidths=1,center=0,linecolor=\"white\")"
   ]
  },
  {
   "cell_type": "code",
   "execution_count": 11,
   "metadata": {},
   "outputs": [
    {
     "data": {
      "text/plain": [
       "<matplotlib.axes._subplots.AxesSubplot at 0x1e4ed2094f0>"
      ]
     },
     "execution_count": 11,
     "metadata": {},
     "output_type": "execute_result"
    },
    {
     "data": {
      "image/png": "[encoded data removed]",
      "text/plain": [
       "<Figure size 432x288 with 2 Axes>"
      ]
     },
     "metadata": {
      "needs_background": "light"
     },
     "output_type": "display_data"
    }
   ],
   "source": [
    "redundant_info=['Length.All PlayStyles.Leisure', 'Length.All PlayStyles.Median','Length.All PlayStyles.Rushed','Length.Completionists.Average',\n",
    "       'Length.Completionists.Leisure','Length.Completionists.Median', 'Length.Completionists.Polled','Length.Completionists.Rushed','Length.Main + Extras.Average', \n",
    "       'Length.Main + Extras.Leisure', 'Length.Main + Extras.Median','Length.Main + Extras.Polled', 'Length.Main + Extras.Rushed','Length.Main Story.Average',\n",
    "       'Length.Main Story.Leisure','Length.Main Story.Median', 'Length.Main Story.Polled','Length.Main Story.Rushed']\n",
    "\n",
    "for col in redundant_info:\n",
    "    df.drop(col,inplace=True,axis=1) #we delete the column\n",
    "    \n",
    "sns.heatmap(df.corr(),cmap=\"YlGnBu\",square=True,linewidths=1,center=0,linecolor=\"white\")"
   ]
  },
  {
   "cell_type": "markdown",
   "metadata": {},
   "source": [
    "Note that the columns with features that are not integers were not included in this correlation analysis. We will take care of that later."
   ]
  },
  {
   "cell_type": "code",
   "execution_count": 12,
   "metadata": {},
   "outputs": [
    {
     "data": {
      "text/plain": [
       "Title                             object\n",
       "Features.Max Players               int64\n",
       "Metadata.Genres                   object\n",
       "Metadata.Publishers               object\n",
       "Metrics.Review Score               int64\n",
       "Metrics.Sales                    float64\n",
       "Metrics.Used Price               float64\n",
       "Release.Console                   object\n",
       "Release.Rating                    object\n",
       "Release.Year                       int64\n",
       "Length.All PlayStyles.Average    float64\n",
       "Length.All PlayStyles.Polled       int64\n",
       "dtype: object"
      ]
     },
     "execution_count": 12,
     "metadata": {},
     "output_type": "execute_result"
    }
   ],
   "source": [
    "df.dtypes"
   ]
  },
  {
   "cell_type": "markdown",
   "metadata": {},
   "source": [
    "Another thing we can to manually check if the remaining features contain meaningfull information for the classifier model is to print an histogram for all of them. We want to identify columns where the vast majority of games share the same category/value. There are now only 12 features left so we can afford having a look at them one by one."
   ]
  },
  {
   "cell_type": "code",
   "execution_count": 13,
   "metadata": {},
   "outputs": [
    {
     "name": "stdout",
     "output_type": "stream",
     "text": [
      "Features.Max Players\n"
     ]
    },
    {
     "data": {
      "image/png": "[encoded data removed]",
      "text/plain": [
       "<Figure size 432x288 with 1 Axes>"
      ]
     },
     "metadata": {
      "needs_background": "light"
     },
     "output_type": "display_data"
    },
    {
     "data": {
      "text/plain": [
       "<Figure size 1440x720 with 0 Axes>"
      ]
     },
     "metadata": {},
     "output_type": "display_data"
    },
    {
     "name": "stdout",
     "output_type": "stream",
     "text": [
      "Metrics.Review Score\n"
     ]
    },
    {
     "data": {
      "image/png": "[encoded data removed]",
      "text/plain": [
       "<Figure size 432x288 with 1 Axes>"
      ]
     },
     "metadata": {
      "needs_background": "light"
     },
     "output_type": "display_data"
    },
    {
     "data": {
      "text/plain": [
       "<Figure size 1440x720 with 0 Axes>"
      ]
     },
     "metadata": {},
     "output_type": "display_data"
    },
    {
     "name": "stdout",
     "output_type": "stream",
     "text": [
      "Metrics.Sales\n"
     ]
    },
    {
     "data": {
      "image/png": "[encoded data removed]",
      "text/plain": [
       "<Figure size 432x288 with 1 Axes>"
      ]
     },
     "metadata": {
      "needs_background": "light"
     },
     "output_type": "display_data"
    },
    {
     "data": {
      "text/plain": [
       "<Figure size 1440x720 with 0 Axes>"
      ]
     },
     "metadata": {},
     "output_type": "display_data"
    },
    {
     "name": "stdout",
     "output_type": "stream",
     "text": [
      "Metrics.Used Price\n"
     ]
    },
    {
     "data": {
      "image/png": "[encoded data removed]",
      "text/plain": [
       "<Figure size 432x288 with 1 Axes>"
      ]
     },
     "metadata": {
      "needs_background": "light"
     },
     "output_type": "display_data"
    },
    {
     "data": {
      "text/plain": [
       "<Figure size 1440x720 with 0 Axes>"
      ]
     },
     "metadata": {},
     "output_type": "display_data"
    },
    {
     "name": "stdout",
     "output_type": "stream",
     "text": [
      "Release.Year\n"
     ]
    },
    {
     "data": {
      "image/png": "[encoded data removed]",
      "text/plain": [
       "<Figure size 432x288 with 1 Axes>"
      ]
     },
     "metadata": {
      "needs_background": "light"
     },
     "output_type": "display_data"
    },
    {
     "data": {
      "text/plain": [
       "<Figure size 1440x720 with 0 Axes>"
      ]
     },
     "metadata": {},
     "output_type": "display_data"
    },
    {
     "name": "stdout",
     "output_type": "stream",
     "text": [
      "Length.All PlayStyles.Average\n"
     ]
    },
    {
     "data": {
      "image/png": "[encoded data removed]",
      "text/plain": [
       "<Figure size 432x288 with 1 Axes>"
      ]
     },
     "metadata": {
      "needs_background": "light"
     },
     "output_type": "display_data"
    },
    {
     "data": {
      "text/plain": [
       "<Figure size 1440x720 with 0 Axes>"
      ]
     },
     "metadata": {},
     "output_type": "display_data"
    },
    {
     "name": "stdout",
     "output_type": "stream",
     "text": [
      "Length.All PlayStyles.Polled\n"
     ]
    },
    {
     "data": {
      "image/png": "[encoded data removed]",
      "text/plain": [
       "<Figure size 432x288 with 1 Axes>"
      ]
     },
     "metadata": {
      "needs_background": "light"
     },
     "output_type": "display_data"
    },
    {
     "data": {
      "text/plain": [
       "<Figure size 1440x720 with 0 Axes>"
      ]
     },
     "metadata": {},
     "output_type": "display_data"
    }
   ],
   "source": [
    "num_cols=[col for col in df.columns if df[col].dtype=='int64' or df[col].dtype=='float64'] #we cannot plot numerical data and categorical data the same way so we filter them by type\n",
    "\n",
    "for col in num_cols:\n",
    "    print(col)\n",
    "    fig=plt.figure()\n",
    "    df[col].plot.hist(bins=50)\n",
    "    plt.figure(figsize=(20,10))\n",
    "    plt.show()"
   ]
  },
  {
   "cell_type": "markdown",
   "metadata": {},
   "source": [
    "It looks like there are a lot of null values in the lenghts columns, we check that again :"
   ]
  },
  {
   "cell_type": "code",
   "execution_count": 14,
   "metadata": {},
   "outputs": [
    {
     "name": "stdout",
     "output_type": "stream",
     "text": [
      "Length.All PlayStyles.Average\n",
      "0.000000     230\n",
      "8.000000      14\n",
      "10.000000     11\n",
      "12.000000     11\n",
      "6.700000       8\n",
      "            ... \n",
      "24.000000      1\n",
      "41.000000      1\n",
      "17.750000      1\n",
      "8.766667       1\n",
      "9.250000       1\n",
      "Name: Length.All PlayStyles.Average, Length: 564, dtype: int64\n",
      "Length.All PlayStyles.Polled\n",
      "0      230\n",
      "1      116\n",
      "2       85\n",
      "4       59\n",
      "3       56\n",
      "      ... \n",
      "187      1\n",
      "203      1\n",
      "207      1\n",
      "69       1\n",
      "210      1\n",
      "Name: Length.All PlayStyles.Polled, Length: 148, dtype: int64\n"
     ]
    }
   ],
   "source": [
    "print('Length.All PlayStyles.Average')\n",
    "print(df['Length.All PlayStyles.Average'].value_counts())\n",
    "\n",
    "print('Length.All PlayStyles.Polled')\n",
    "print(df['Length.All PlayStyles.Polled'].value_counts())"
   ]
  },
  {
   "cell_type": "markdown",
   "metadata": {},
   "source": [
    "These features are missing for 230 out of ~ 1212 games. I don't want to drop this information. I can either replace the null values by the mean of the columns or use a more complex type of imputer (KNN imputer for example)."
   ]
  },
  {
   "cell_type": "code",
   "execution_count": 15,
   "metadata": {},
   "outputs": [
    {
     "data": {
      "text/html": [
       "<div>\n",
       "<style scoped>\n",
       "    .dataframe tbody tr th:only-of-type {\n",
       "        vertical-align: middle;\n",
       "    }\n",
       "\n",
       "    .dataframe tbody tr th {\n",
       "        vertical-align: top;\n",
       "    }\n",
       "\n",
       "    .dataframe thead th {\n",
       "        text-align: right;\n",
       "    }\n",
       "</style>\n",
       "<table border=\"1\" class=\"dataframe\">\n",
       "  <thead>\n",
       "    <tr style=\"text-align: right;\">\n",
       "      <th></th>\n",
       "      <th>Title</th>\n",
       "      <th>Features.Max Players</th>\n",
       "      <th>Metadata.Genres</th>\n",
       "      <th>Metadata.Publishers</th>\n",
       "      <th>Metrics.Review Score</th>\n",
       "      <th>Metrics.Sales</th>\n",
       "      <th>Metrics.Used Price</th>\n",
       "      <th>Release.Console</th>\n",
       "      <th>Release.Rating</th>\n",
       "      <th>Release.Year</th>\n",
       "      <th>Length.All PlayStyles.Average</th>\n",
       "      <th>Length.All PlayStyles.Polled</th>\n",
       "    </tr>\n",
       "  </thead>\n",
       "  <tbody>\n",
       "    <tr>\n",
       "      <th>0</th>\n",
       "      <td>Super Mario 64 DS</td>\n",
       "      <td>1</td>\n",
       "      <td>Action</td>\n",
       "      <td>Nintendo</td>\n",
       "      <td>85</td>\n",
       "      <td>4.69</td>\n",
       "      <td>24.95</td>\n",
       "      <td>Nintendo DS</td>\n",
       "      <td>E</td>\n",
       "      <td>2004</td>\n",
       "      <td>22.716667</td>\n",
       "      <td>57</td>\n",
       "    </tr>\n",
       "    <tr>\n",
       "      <th>1</th>\n",
       "      <td>Lumines: Puzzle Fusion</td>\n",
       "      <td>1</td>\n",
       "      <td>Strategy</td>\n",
       "      <td>Ubisoft</td>\n",
       "      <td>89</td>\n",
       "      <td>0.56</td>\n",
       "      <td>14.95</td>\n",
       "      <td>Sony PSP</td>\n",
       "      <td>E</td>\n",
       "      <td>2004</td>\n",
       "      <td>10.100000</td>\n",
       "      <td>5</td>\n",
       "    </tr>\n",
       "    <tr>\n",
       "      <th>2</th>\n",
       "      <td>WarioWare Touched!</td>\n",
       "      <td>2</td>\n",
       "      <td>Action,Racing / Driving,Sports</td>\n",
       "      <td>Nintendo</td>\n",
       "      <td>81</td>\n",
       "      <td>0.54</td>\n",
       "      <td>22.95</td>\n",
       "      <td>Nintendo DS</td>\n",
       "      <td>E</td>\n",
       "      <td>2004</td>\n",
       "      <td>4.566667</td>\n",
       "      <td>57</td>\n",
       "    </tr>\n",
       "    <tr>\n",
       "      <th>4</th>\n",
       "      <td>Spider-Man 2</td>\n",
       "      <td>1</td>\n",
       "      <td>Action</td>\n",
       "      <td>Activision</td>\n",
       "      <td>61</td>\n",
       "      <td>0.45</td>\n",
       "      <td>14.95</td>\n",
       "      <td>Nintendo DS</td>\n",
       "      <td>E</td>\n",
       "      <td>2004</td>\n",
       "      <td>13.250000</td>\n",
       "      <td>37</td>\n",
       "    </tr>\n",
       "    <tr>\n",
       "      <th>5</th>\n",
       "      <td>The Urbz: Sims in the City</td>\n",
       "      <td>1</td>\n",
       "      <td>Simulation</td>\n",
       "      <td>EA</td>\n",
       "      <td>67</td>\n",
       "      <td>0.41</td>\n",
       "      <td>12.95</td>\n",
       "      <td>Nintendo DS</td>\n",
       "      <td>M</td>\n",
       "      <td>2004</td>\n",
       "      <td>21.933333</td>\n",
       "      <td>7</td>\n",
       "    </tr>\n",
       "    <tr>\n",
       "      <th>...</th>\n",
       "      <td>...</td>\n",
       "      <td>...</td>\n",
       "      <td>...</td>\n",
       "      <td>...</td>\n",
       "      <td>...</td>\n",
       "      <td>...</td>\n",
       "      <td>...</td>\n",
       "      <td>...</td>\n",
       "      <td>...</td>\n",
       "      <td>...</td>\n",
       "      <td>...</td>\n",
       "      <td>...</td>\n",
       "    </tr>\n",
       "    <tr>\n",
       "      <th>1186</th>\n",
       "      <td>Legendary</td>\n",
       "      <td>1</td>\n",
       "      <td>Action</td>\n",
       "      <td>Atari</td>\n",
       "      <td>50</td>\n",
       "      <td>0.05</td>\n",
       "      <td>19.95</td>\n",
       "      <td>PlayStation 3</td>\n",
       "      <td>E</td>\n",
       "      <td>2008</td>\n",
       "      <td>5.850000</td>\n",
       "      <td>57</td>\n",
       "    </tr>\n",
       "    <tr>\n",
       "      <th>1189</th>\n",
       "      <td>Armored Core: For Answer</td>\n",
       "      <td>1</td>\n",
       "      <td>Action</td>\n",
       "      <td>Ubisoft</td>\n",
       "      <td>64</td>\n",
       "      <td>0.05</td>\n",
       "      <td>24.95</td>\n",
       "      <td>X360</td>\n",
       "      <td>T</td>\n",
       "      <td>2008</td>\n",
       "      <td>56.883333</td>\n",
       "      <td>12</td>\n",
       "    </tr>\n",
       "    <tr>\n",
       "      <th>1195</th>\n",
       "      <td>Looney Tunes: Cartoon Conductor</td>\n",
       "      <td>1</td>\n",
       "      <td>Action</td>\n",
       "      <td>Eidos</td>\n",
       "      <td>67</td>\n",
       "      <td>0.04</td>\n",
       "      <td>13.95</td>\n",
       "      <td>Nintendo DS</td>\n",
       "      <td>M</td>\n",
       "      <td>2008</td>\n",
       "      <td>4.750000</td>\n",
       "      <td>2</td>\n",
       "    </tr>\n",
       "    <tr>\n",
       "      <th>1204</th>\n",
       "      <td>Assassin's Creed: Altar's Chronicles</td>\n",
       "      <td>1</td>\n",
       "      <td>Action</td>\n",
       "      <td>Ubisoft</td>\n",
       "      <td>58</td>\n",
       "      <td>0.03</td>\n",
       "      <td>11.95</td>\n",
       "      <td>Nintendo DS</td>\n",
       "      <td>T</td>\n",
       "      <td>2008</td>\n",
       "      <td>5.066667</td>\n",
       "      <td>22</td>\n",
       "    </tr>\n",
       "    <tr>\n",
       "      <th>1205</th>\n",
       "      <td>The Legend of Kage 2</td>\n",
       "      <td>1</td>\n",
       "      <td>Action</td>\n",
       "      <td>SquareEnix</td>\n",
       "      <td>70</td>\n",
       "      <td>0.03</td>\n",
       "      <td>14.95</td>\n",
       "      <td>Nintendo DS</td>\n",
       "      <td>E</td>\n",
       "      <td>2008</td>\n",
       "      <td>3.333333</td>\n",
       "      <td>1</td>\n",
       "    </tr>\n",
       "  </tbody>\n",
       "</table>\n",
       "<p>771 rows × 12 columns</p>\n",
       "</div>"
      ],
      "text/plain": [
       "                                     Title  Features.Max Players  \\\n",
       "0                        Super Mario 64 DS                     1   \n",
       "1                   Lumines: Puzzle Fusion                     1   \n",
       "2                       WarioWare Touched!                     2   \n",
       "4                             Spider-Man 2                     1   \n",
       "5               The Urbz: Sims in the City                     1   \n",
       "...                                    ...                   ...   \n",
       "1186                             Legendary                     1   \n",
       "1189              Armored Core: For Answer                     1   \n",
       "1195       Looney Tunes: Cartoon Conductor                     1   \n",
       "1204  Assassin's Creed: Altar's Chronicles                     1   \n",
       "1205                  The Legend of Kage 2                     1   \n",
       "\n",
       "                     Metadata.Genres Metadata.Publishers  \\\n",
       "0                             Action            Nintendo   \n",
       "1                           Strategy             Ubisoft   \n",
       "2     Action,Racing / Driving,Sports            Nintendo   \n",
       "4                             Action          Activision   \n",
       "5                         Simulation                  EA   \n",
       "...                              ...                 ...   \n",
       "1186                          Action               Atari   \n",
       "1189                          Action             Ubisoft   \n",
       "1195                          Action               Eidos   \n",
       "1204                          Action             Ubisoft   \n",
       "1205                          Action          SquareEnix   \n",
       "\n",
       "      Metrics.Review Score  Metrics.Sales  Metrics.Used Price Release.Console  \\\n",
       "0                       85           4.69               24.95     Nintendo DS   \n",
       "1                       89           0.56               14.95        Sony PSP   \n",
       "2                       81           0.54               22.95     Nintendo DS   \n",
       "4                       61           0.45               14.95     Nintendo DS   \n",
       "5                       67           0.41               12.95     Nintendo DS   \n",
       "...                    ...            ...                 ...             ...   \n",
       "1186                    50           0.05               19.95   PlayStation 3   \n",
       "1189                    64           0.05               24.95            X360   \n",
       "1195                    67           0.04               13.95     Nintendo DS   \n",
       "1204                    58           0.03               11.95     Nintendo DS   \n",
       "1205                    70           0.03               14.95     Nintendo DS   \n",
       "\n",
       "     Release.Rating  Release.Year  Length.All PlayStyles.Average  \\\n",
       "0                 E          2004                      22.716667   \n",
       "1                 E          2004                      10.100000   \n",
       "2                 E          2004                       4.566667   \n",
       "4                 E          2004                      13.250000   \n",
       "5                 M          2004                      21.933333   \n",
       "...             ...           ...                            ...   \n",
       "1186              E          2008                       5.850000   \n",
       "1189              T          2008                      56.883333   \n",
       "1195              M          2008                       4.750000   \n",
       "1204              T          2008                       5.066667   \n",
       "1205              E          2008                       3.333333   \n",
       "\n",
       "      Length.All PlayStyles.Polled  \n",
       "0                               57  \n",
       "1                                5  \n",
       "2                               57  \n",
       "4                               37  \n",
       "5                                7  \n",
       "...                            ...  \n",
       "1186                            57  \n",
       "1189                            12  \n",
       "1195                             2  \n",
       "1204                            22  \n",
       "1205                             1  \n",
       "\n",
       "[771 rows x 12 columns]"
      ]
     },
     "execution_count": 15,
     "metadata": {},
     "output_type": "execute_result"
    }
   ],
   "source": [
    "#I may drop these few examples since 3 out of 10 features are missing\n",
    "\n",
    "df[(df['Length.All PlayStyles.Polled']!=0) & (df['Metadata.Publishers'].isna()==False)]"
   ]
  },
  {
   "cell_type": "code",
   "execution_count": 16,
   "metadata": {},
   "outputs": [
    {
     "name": "stdout",
     "output_type": "stream",
     "text": [
      "<class 'pandas.core.frame.DataFrame'>\n",
      "RangeIndex: 1212 entries, 0 to 1211\n",
      "Data columns (total 12 columns):\n",
      " #   Column                         Non-Null Count  Dtype  \n",
      "---  ------                         --------------  -----  \n",
      " 0   Title                          1212 non-null   object \n",
      " 1   Features.Max Players           1212 non-null   int64  \n",
      " 2   Metadata.Genres                1212 non-null   object \n",
      " 3   Metadata.Publishers            948 non-null    object \n",
      " 4   Metrics.Review Score           1212 non-null   int64  \n",
      " 5   Metrics.Sales                  1212 non-null   float64\n",
      " 6   Metrics.Used Price             1212 non-null   float64\n",
      " 7   Release.Console                1212 non-null   object \n",
      " 8   Release.Rating                 1212 non-null   object \n",
      " 9   Release.Year                   1212 non-null   int64  \n",
      " 10  Length.All PlayStyles.Average  1212 non-null   float64\n",
      " 11  Length.All PlayStyles.Polled   1212 non-null   int64  \n",
      "dtypes: float64(3), int64(4), object(5)\n",
      "memory usage: 113.8+ KB\n"
     ]
    }
   ],
   "source": [
    "df.info()"
   ]
  },
  {
   "cell_type": "code",
   "execution_count": 17,
   "metadata": {},
   "outputs": [],
   "source": [
    "# meanPolled=df['Length.All PlayStyles.Polled'][df['Length.All PlayStyles.Polled']!=0].mean()\n",
    "# meanAvg=df['Length.All PlayStyles.Average'][df['Length.All PlayStyles.Average']!=0].mean()\n",
    "\n",
    "# df.loc[df['Length.All PlayStyles.Polled']==0, 'Length.All PlayStyles.Polled']= meanPolled\n",
    "# df.loc[df['Length.All PlayStyles.Average']==0, 'Length.All PlayStyles.Average']= meanAvg\n",
    "\n",
    "# df.loc[df['Length.All PlayStyles.Polled']==0, 'Length.All PlayStyles.Polled']= np.nan    # We replace all 0 values by nan because the imputer only changes nan values\n",
    "# df.loc[df['Length.All PlayStyles.Average']==0, 'Length.All PlayStyles.Average']= np.nan"
   ]
  },
  {
   "cell_type": "code",
   "execution_count": 18,
   "metadata": {},
   "outputs": [
    {
     "name": "stdout",
     "output_type": "stream",
     "text": [
      "Length.All PlayStyles.Average\n",
      "0.000000     230\n",
      "8.000000      14\n",
      "10.000000     11\n",
      "12.000000     11\n",
      "6.700000       8\n",
      "            ... \n",
      "24.000000      1\n",
      "41.000000      1\n",
      "17.750000      1\n",
      "8.766667       1\n",
      "9.250000       1\n",
      "Name: Length.All PlayStyles.Average, Length: 564, dtype: int64\n",
      "Length.All PlayStyles.Polled\n",
      "0      230\n",
      "1      116\n",
      "2       85\n",
      "4       59\n",
      "3       56\n",
      "      ... \n",
      "187      1\n",
      "203      1\n",
      "207      1\n",
      "69       1\n",
      "210      1\n",
      "Name: Length.All PlayStyles.Polled, Length: 148, dtype: int64\n"
     ]
    }
   ],
   "source": [
    "print('Length.All PlayStyles.Average')\n",
    "print(df['Length.All PlayStyles.Average'].value_counts())\n",
    "\n",
    "print('Length.All PlayStyles.Polled')\n",
    "print(df['Length.All PlayStyles.Polled'].value_counts())"
   ]
  },
  {
   "cell_type": "markdown",
   "metadata": {},
   "source": [
    "Note that I could use an imputer from the sklearn library with strategy='mean' for this task. I could also use more complex imputers like multivariate or KNN imputer."
   ]
  },
  {
   "cell_type": "code",
   "execution_count": 19,
   "metadata": {},
   "outputs": [
    {
     "name": "stdout",
     "output_type": "stream",
     "text": [
      "Metadata.Genres\n"
     ]
    },
    {
     "data": {
      "image/png": "[encoded data removed]",
      "text/plain": [
       "<Figure size 432x288 with 1 Axes>"
      ]
     },
     "metadata": {
      "needs_background": "light"
     },
     "output_type": "display_data"
    },
    {
     "data": {
      "text/plain": [
       "<Figure size 1440x720 with 0 Axes>"
      ]
     },
     "metadata": {},
     "output_type": "display_data"
    },
    {
     "name": "stdout",
     "output_type": "stream",
     "text": [
      "Metadata.Publishers\n"
     ]
    },
    {
     "data": {
      "image/png": "[encoded data removed]",
      "text/plain": [
       "<Figure size 432x288 with 1 Axes>"
      ]
     },
     "metadata": {
      "needs_background": "light"
     },
     "output_type": "display_data"
    },
    {
     "data": {
      "text/plain": [
       "<Figure size 1440x720 with 0 Axes>"
      ]
     },
     "metadata": {},
     "output_type": "display_data"
    },
    {
     "name": "stdout",
     "output_type": "stream",
     "text": [
      "Release.Console\n"
     ]
    },
    {
     "data": {
      "image/png": "[encoded data removed]",
      "text/plain": [
       "<Figure size 432x288 with 1 Axes>"
      ]
     },
     "metadata": {
      "needs_background": "light"
     },
     "output_type": "display_data"
    },
    {
     "data": {
      "text/plain": [
       "<Figure size 1440x720 with 0 Axes>"
      ]
     },
     "metadata": {},
     "output_type": "display_data"
    },
    {
     "name": "stdout",
     "output_type": "stream",
     "text": [
      "Release.Rating\n"
     ]
    },
    {
     "data": {
      "image/png": "[encoded data removed]",
      "text/plain": [
       "<Figure size 432x288 with 1 Axes>"
      ]
     },
     "metadata": {
      "needs_background": "light"
     },
     "output_type": "display_data"
    },
    {
     "data": {
      "text/plain": [
       "<Figure size 1440x720 with 0 Axes>"
      ]
     },
     "metadata": {},
     "output_type": "display_data"
    }
   ],
   "source": [
    "cat_cols=[col for col in df.columns if col not in num_cols and col!='Title'] #we plot the colmuns that have not been printed yet\n",
    "\n",
    "for col in cat_cols:                         #for all the colmuns with categorical data\n",
    "    print(col)                              \n",
    "    fig=plt.figure()\n",
    "    df[col].value_counts().plot(kind='bar')  #and we create the histogram\n",
    "    plt.figure(figsize=(20,10))\n",
    "    plt.show()"
   ]
  },
  {
   "cell_type": "markdown",
   "metadata": {},
   "source": [
    "Everything seems fine, we can now assign numbers to category so that we can plot the full correlation matrix. This will also be usefull for some models that can not process categorical data."
   ]
  },
  {
   "cell_type": "code",
   "execution_count": 20,
   "metadata": {},
   "outputs": [
    {
     "data": {
      "text/plain": [
       "<matplotlib.axes._subplots.AxesSubplot at 0x1e4fd2c1bb0>"
      ]
     },
     "execution_count": 20,
     "metadata": {},
     "output_type": "execute_result"
    },
    {
     "data": {
      "image/png": "[encoded data removed]",
      "text/plain": [
       "<Figure size 432x288 with 2 Axes>"
      ]
     },
     "metadata": {
      "needs_background": "light"
     },
     "output_type": "display_data"
    }
   ],
   "source": [
    "df_ini=df.copy(deep=True)\n",
    "\n",
    "for col in cat_cols:\n",
    "    df[col]=df[col].astype('category')       #we cast them as category (instead of object), this is supposed to make data manipulation faster but that's required to encode them into numbers\n",
    "    df[col]=df[col].cat.codes                #I could also have used Ordinal Encoding (from sklearn preprocessing) to do that step\n",
    "\n",
    "sns.heatmap(df.corr(),cmap=\"YlGnBu\",square=True,linewidths=1,center=0,linecolor=\"white\")"
   ]
  },
  {
   "cell_type": "markdown",
   "metadata": {},
   "source": [
    "There seem to be a relatively high correlation between Metric.Sales and Metric.Review Scores but that was to be expected and Metric.Review Scores is the metric we want to predict."
   ]
  },
  {
   "cell_type": "markdown",
   "metadata": {},
   "source": [
    "<hr>\n",
    "\n",
    "## 3. Classification (up to 7/8 points)\n",
    "In this part of the tutorial you are requested to perform all the necessary steps required in order to design a full fledged classification task on the <b>Metrics.Review Score</b>.\n",
    "\n",
    "You are requested to perform the following steps having in mind the following: \n",
    "\n",
    "1) the dataset must be properly splitted to perform crossvalidation during model selection/hyper parameter tuning and to test during the evaluation step \n",
    "\n",
    "2) features must be properly encoded\n",
    "\n",
    "3) the target feature can be dicretized <b>(number of classes must be greater than 5)</b> in order to simplify the problem;\n",
    "\n",
    "4) for model selection you are requested to consider: \n",
    "    - Decision Trees\n",
    "    - Support Vector Machines;\n",
    "    - An ensamble methodology;\n",
    "    - MLPNs.\n",
    "5) during model selection hyper-parameter tuning must be performed and discussed;\n",
    "\n",
    "6) class imbalancing must be addressed (when appropriate);\n",
    "\n",
    "7) remember to apply standardizion and normalization when appropriate;\n",
    "\n",
    "8) provide a discussion of model selection where you describe the differences in terms of performance and explains the root causes;\n",
    "\n",
    "9) describe the measure adopted for the evaluation and discuss the results;\n",
    "\n",
    "#### 3.1 Preprocessing (up to 2/8 points)\n",
    "Write the necessary code to perfrom an adequate prepocessing, <b>REMEMBER to describe with your own words each step. Perfectly working code with no comments and discussion correpsonds to 0 POINTS</b>"
   ]
  },
  {
   "cell_type": "markdown",
   "metadata": {},
   "source": [
    "##### Preprocessing strategy\n",
    "\n",
    "Part of the pre-processing has already been done in 2.2 because imputation and encoding were necessary to analyse the data properly to identify important features. The different steps of this preprocessing part are the following :\n",
    "\n",
    "- Imputation\n",
    "- Encoding (partly done in 2.2)\n",
    "- Feature selection (done in 2.2)\n",
    "- Target value discretization\n",
    "- Classes balancement\n",
    "- Feature scaling\n",
    "- Dataset splitting"
   ]
  },
  {
   "cell_type": "markdown",
   "metadata": {},
   "source": [
    "##### Imputation"
   ]
  },
  {
   "cell_type": "markdown",
   "metadata": {},
   "source": [
    "Imputation consists in replacing missing value with relevant ones. Different strategy exist to do that but it is mandatory to choose the one that best corresponds to each feature requiring imputation. We have 3 features with missing values : Metadata.genres, Length.All PlayStyles.Polled and Length.All PlayStyles.Average. The first one is a categorical value which has been ordinal encoded (unique numbers have been assigned to each category). I have chosen to use a KNN imputer to fill those missing values. The best way to impute these values would be to scrap them from wikipedia but that would require too much time for little improvment. For the two other features, while I could just assign the mean of the column to the missing values, I chose to use the KNN imputer as well. In theory it should be more accurate."
   ]
  },
  {
   "cell_type": "code",
   "execution_count": 21,
   "metadata": {},
   "outputs": [],
   "source": [
    "from sklearn.impute import KNNImputer\n",
    "\n",
    "df.drop('Title',inplace=True,axis=1)\n",
    "df.loc[df['Metadata.Publishers']==-1, 'Metadata.Publishers']= np.nan #I used ordinal encoding and it affected -1 to nan values\n",
    "\n",
    "df.loc[df['Length.All PlayStyles.Polled']==0, 'Length.All PlayStyles.Polled']= np.nan    # We replace all 0 values by nan because the imputer only changes nan values\n",
    "df.loc[df['Length.All PlayStyles.Average']==0, 'Length.All PlayStyles.Average']= np.nan\n",
    "\n",
    "imputer = KNNImputer(n_neighbors=5, weights=\"distance\")\n",
    "imputed_df=pd.DataFrame(imputer.fit_transform(df))\n",
    "\n",
    "df['Metadata.Publishers']= imputed_df[2].round() #I only want to use the imputer on column 2 and want round values because they are category indexes\n",
    "df['Length.All PlayStyles.Polled']=imputed_df[10]\n",
    "df['Length.All PlayStyles.Average']=imputed_df[9]                                                                 "
   ]
  },
  {
   "cell_type": "markdown",
   "metadata": {},
   "source": [
    "We can then quickly check if the imputation was correct."
   ]
  },
  {
   "cell_type": "code",
   "execution_count": 22,
   "metadata": {},
   "outputs": [
    {
     "name": "stdout",
     "output_type": "stream",
     "text": [
      "Metadata.Publishers\n",
      "10.0    169\n",
      "21.0     96\n",
      "30.0     92\n",
      "1.0      87\n",
      "25.0     84\n",
      "26.0     69\n",
      "29.0     61\n",
      "14.0     60\n",
      "0.0      50\n",
      "18.0     49\n",
      "17.0     45\n",
      "6.0      37\n",
      "15.0     37\n",
      "28.0     36\n",
      "13.0     34\n",
      "19.0     28\n",
      "4.0      23\n",
      "20.0     18\n",
      "22.0     17\n",
      "16.0     17\n",
      "23.0     17\n",
      "11.0     17\n",
      "12.0     16\n",
      "24.0     16\n",
      "9.0      15\n",
      "8.0       6\n",
      "27.0      6\n",
      "5.0       5\n",
      "2.0       2\n",
      "7.0       2\n",
      "3.0       1\n",
      "Name: Metadata.Publishers, dtype: int64\n",
      "Length.All PlayStyles.Average\n",
      "8.000000     14\n",
      "10.000000    11\n",
      "12.000000    11\n",
      "6.700000      8\n",
      "4.000000      7\n",
      "             ..\n",
      "13.723755     1\n",
      "34.033517     1\n",
      "5.566667      1\n",
      "20.522453     1\n",
      "9.250000      1\n",
      "Name: Length.All PlayStyles.Average, Length: 793, dtype: int64\n",
      "Length.All PlayStyles.Polled\n",
      "1.000000      116\n",
      "2.000000       85\n",
      "4.000000       59\n",
      "3.000000       56\n",
      "5.000000       44\n",
      "             ... \n",
      "1.742423        1\n",
      "127.000000      1\n",
      "9.130918        1\n",
      "8.702211        1\n",
      "5.133366        1\n",
      "Name: Length.All PlayStyles.Polled, Length: 377, dtype: int64\n"
     ]
    }
   ],
   "source": [
    "print('Metadata.Publishers')\n",
    "print(df['Metadata.Publishers'].value_counts())\n",
    "\n",
    "print('Length.All PlayStyles.Average')\n",
    "print(df['Length.All PlayStyles.Average'].value_counts())\n",
    "\n",
    "print('Length.All PlayStyles.Polled')\n",
    "print(df['Length.All PlayStyles.Polled'].value_counts())"
   ]
  },
  {
   "cell_type": "markdown",
   "metadata": {},
   "source": [
    "##### Discretization\n",
    "\n",
    "The target value is a continous value so it has to be discretized since the goal of this project is to build classifiers, not regressors. Once it is done, we'll be able to balance the dataset and then split features and target values."
   ]
  },
  {
   "cell_type": "code",
   "execution_count": 23,
   "metadata": {},
   "outputs": [],
   "source": [
    "from sklearn import preprocessing\n",
    "\n",
    "disctretizer = preprocessing.KBinsDiscretizer(n_bins=6, encode='ordinal', strategy='kmeans')\n",
    "df['Metrics.Review Score']= disctretizer.fit_transform(df[['Metrics.Review Score']])"
   ]
  },
  {
   "cell_type": "markdown",
   "metadata": {},
   "source": [
    "##### Balancing the dataset\n",
    "\n",
    "\n",
    "Using quantile strategy for discretization makes the dataset relatively balanced. I chose to only downsample one class because its population is a bit higher than every other category.\n",
    "\n",
    "NB: I should modify this part if I use another discretization strategy"
   ]
  },
  {
   "cell_type": "code",
   "execution_count": 24,
   "metadata": {},
   "outputs": [
    {
     "data": {
      "text/plain": [
       "4.0    357\n",
       "3.0    306\n",
       "5.0    203\n",
       "2.0    186\n",
       "1.0    127\n",
       "0.0     33\n",
       "Name: Metrics.Review Score, dtype: int64"
      ]
     },
     "execution_count": 24,
     "metadata": {},
     "output_type": "execute_result"
    }
   ],
   "source": [
    "df['Metrics.Review Score'].value_counts()"
   ]
  },
  {
   "cell_type": "code",
   "execution_count": 26,
   "metadata": {},
   "outputs": [],
   "source": [
    "#with SMOTE\n",
    "from imblearn.over_sampling import SMOTE\n",
    "from collections import Counter\n",
    "from matplotlib import pyplot\n",
    "from sklearn.utils import resample\n",
    "\n",
    "\n",
    "df_majority = df[df['Metrics.Review Score']==4.0]            # this df contains exclusively samples with 'Metrics.Review Score' equal to 4.0\n",
    "df_majority = resample(df_majority, replace=False,n_samples=306)\n",
    "df_other = df[df['Metrics.Review Score']!=4.0]             \n",
    "\n",
    "# Combine minority class with downsampled majority class\n",
    "df = pd.concat([df_majority, df_other])\n",
    "\n",
    "oversample = SMOTE()\n",
    "\n",
    "X=df.copy(deep=True)\n",
    "X.drop('Metrics.Review Score',inplace=True,axis=1) #we drop the target\n",
    "y=df['Metrics.Review Score']\n",
    "\n",
    "X, y = oversample.fit_resample(X, y)"
   ]
  },
  {
   "cell_type": "markdown",
   "metadata": {},
   "source": [
    "##### Further encoding"
   ]
  },
  {
   "cell_type": "markdown",
   "metadata": {},
   "source": [
    "This step is optionnal. I originally used ordinal encoding to map categorical features to integers that can be handled by sklearn ml algorithms. However, since there is no relation between the different categories, I believe one hot encoding is a better way to represent the data. This way, a distance based algorithm will not \"see\" categories with id x and x+1 as closer than category x+3. All categories will have the same \"distance\" with one hot encoding. This reasonning is the exact opposit of word embedding where we want to have words with similar meanings \"closer\" to each other."
   ]
  },
  {
   "cell_type": "code",
   "execution_count": 27,
   "metadata": {},
   "outputs": [
    {
     "data": {
      "text/plain": [
       "(1161, 87)"
      ]
     },
     "execution_count": 27,
     "metadata": {},
     "output_type": "execute_result"
    }
   ],
   "source": [
    "df_ohe=pd.get_dummies(df, columns=['Metadata.Genres','Metadata.Publishers'], prefix=['genre','publisher'])\n",
    "\n",
    "df_ohe.shape"
   ]
  },
  {
   "cell_type": "code",
   "execution_count": 28,
   "metadata": {},
   "outputs": [],
   "source": [
    "y_ohe = df_ohe['Metrics.Review Score']\n",
    "X_ohe = df_ohe.drop('Metrics.Review Score',inplace=True,axis=1) #we drop the target\n",
    "\n",
    "X_ohe, y_ohe = oversample.fit_resample(X, y)"
   ]
  },
  {
   "cell_type": "markdown",
   "metadata": {},
   "source": [
    "The problem now is that the number of features has jumped consequently and that may indeed decrease the performance of some algorithms. We will have a look at how algorithms perform on both of these dataframes."
   ]
  },
  {
   "cell_type": "markdown",
   "metadata": {},
   "source": [
    "##### Scaling\n",
    "\n",
    "Some of the models we will use perform poorly if the data is not scaled or normalized. I chose to map data to a normal distribution. "
   ]
  },
  {
   "cell_type": "code",
   "execution_count": 29,
   "metadata": {},
   "outputs": [],
   "source": [
    "quantile_transformer = preprocessing.QuantileTransformer(random_state=0, output_distribution='normal')\n",
    "X = quantile_transformer.fit_transform(X)\n",
    "X_ohe = quantile_transformer.fit_transform(X)"
   ]
  },
  {
   "cell_type": "markdown",
   "metadata": {},
   "source": [
    "##### Splitting"
   ]
  },
  {
   "cell_type": "markdown",
   "metadata": {},
   "source": [
    "We also need to split the dat into train and test set. If I wanted to be really rigorous I should also create a validation set but I do not have lots of data so I will not do that."
   ]
  },
  {
   "cell_type": "code",
   "execution_count": 30,
   "metadata": {},
   "outputs": [],
   "source": [
    "from sklearn.model_selection import train_test_split\n",
    "\n",
    "X_train, X_test, y_train, y_test = train_test_split(X, y, test_size=0.2, random_state=123)\n",
    "X_ohe_train, X_ohe_test, y_ohe_train, y_ohe_test = train_test_split(X_ohe, y_ohe, test_size=0.2, random_state=123)"
   ]
  },
  {
   "cell_type": "markdown",
   "metadata": {},
   "source": [
    "#### 3.2 Model Selection  (up to 3/8 points)\n",
    "Write the necessary code to perfrom an adequate model selection. tips: for some models you may need to perform additional preprocessing steps (encoding, normalization, feature selection, class balancement, ...).\n",
    "<b>REMEMBER to describe with your own words each step. Perfectly working code with no comments and discussion correpsonds to 0 POINTS</b>"
   ]
  },
  {
   "cell_type": "code",
   "execution_count": 31,
   "metadata": {},
   "outputs": [],
   "source": [
    "from sklearn.model_selection import cross_val_score\n",
    "from sklearn.model_selection import GridSearchCV\n",
    "from sklearn.metrics import classification_report"
   ]
  },
  {
   "cell_type": "markdown",
   "metadata": {},
   "source": [
    "<b> For this part I used part of the code of Lab 8, HPsTuning jupyter notebook. <b>"
   ]
  },
  {
   "cell_type": "markdown",
   "metadata": {},
   "source": [
    "On this part, I try different models and perform a gridsearch for each model. I specify a range of parameter to \"explore\" and all possible combinations are tested. I then have access with the hyperparameters that performed best on the training set. It is the right way to do it because choosing the hyperparameters that achieve the best accuracy for the test set would be cheating. This hyperparameters exploration process can be really long if we do not narrow the range of the hyperparameters enought. Note that I alos use cors validation coupled with grid search so that I do not rely on one run to decide if one set of parameter is the best one or not. This way to evaluate my performance is like having both a test set and a validation set because I do not used what I defined as the test set to select the hyperparameters. "
   ]
  },
  {
   "cell_type": "markdown",
   "metadata": {},
   "source": [
    "##### Decision Tree"
   ]
  },
  {
   "cell_type": "code",
   "execution_count": 32,
   "metadata": {},
   "outputs": [
    {
     "name": "stdout",
     "output_type": "stream",
     "text": [
      "# Tuning hyper-parameters for precision\n",
      "\n",
      "Best parameters set found during training:  {'criterion': 'gini'}\n",
      "\n",
      "Grid scores on train set:\n",
      "\n",
      "0.517 (+/-0.030) for {'criterion': 'gini'}\n",
      "0.503 (+/-0.071) for {'criterion': 'entropy'}\n",
      "\n",
      "Detailed classification report (scores computed on the test set):\n",
      "\n",
      "              precision    recall  f1-score   support\n",
      "\n",
      "         0.0       0.72      0.82      0.77        61\n",
      "         1.0       0.55      0.49      0.52        63\n",
      "         2.0       0.40      0.52      0.45        54\n",
      "         3.0       0.39      0.31      0.34        72\n",
      "         4.0       0.35      0.38      0.36        58\n",
      "         5.0       0.63      0.57      0.60        60\n",
      "\n",
      "    accuracy                           0.51       368\n",
      "   macro avg       0.51      0.51      0.51       368\n",
      "weighted avg       0.51      0.51      0.50       368\n",
      "\n",
      "# Tuning hyper-parameters for recall\n",
      "\n",
      "Best parameters set found during training:  {'criterion': 'gini'}\n",
      "\n",
      "Grid scores on train set:\n",
      "\n",
      "0.515 (+/-0.020) for {'criterion': 'gini'}\n",
      "0.512 (+/-0.039) for {'criterion': 'entropy'}\n",
      "\n",
      "Detailed classification report (scores computed on the test set):\n",
      "\n",
      "              precision    recall  f1-score   support\n",
      "\n",
      "         0.0       0.78      0.82      0.80        61\n",
      "         1.0       0.56      0.51      0.53        63\n",
      "         2.0       0.40      0.52      0.45        54\n",
      "         3.0       0.34      0.29      0.31        72\n",
      "         4.0       0.35      0.34      0.35        58\n",
      "         5.0       0.59      0.57      0.58        60\n",
      "\n",
      "    accuracy                           0.50       368\n",
      "   macro avg       0.50      0.51      0.50       368\n",
      "weighted avg       0.50      0.50      0.50       368\n",
      "\n"
     ]
    }
   ],
   "source": [
    "from sklearn import tree\n",
    "\n",
    "tuned_parameters = {'criterion': ['gini','entropy']}\n",
    "\n",
    "scores = ['precision', 'recall']\n",
    "\n",
    "for score in scores:\n",
    "    print(\"# Tuning hyper-parameters for %s\" % score)\n",
    "    print()\n",
    "\n",
    "    clf = GridSearchCV(tree.DecisionTreeClassifier(), tuned_parameters, scoring='%s_macro' % score, cv=5) #cv stands for cross validation. I used here 5 fold cross validation\n",
    "    clf.fit(X_train, y_train)\n",
    "\n",
    "    print(\"Best parameters set found during training: \", clf.best_params_)\n",
    "    print()\n",
    "    print(\"Grid scores on train set:\")\n",
    "    print()\n",
    "    means = clf.cv_results_['mean_test_score']\n",
    "    stds = clf.cv_results_['std_test_score']\n",
    "    for mean, std, params in zip(means, stds, clf.cv_results_['params']):\n",
    "        print(\"%0.3f (+/-%0.03f) for %r\"\n",
    "              % (mean, std * 2, params))\n",
    "    print()\n",
    "    print(\"Detailed classification report (scores computed on the test set):\")\n",
    "    print()\n",
    "    y_true, y_pred = y_test, clf.predict(X_test)\n",
    "    print(classification_report(y_true, y_pred))"
   ]
  },
  {
   "cell_type": "markdown",
   "metadata": {},
   "source": [
    "##### Support Vector Machines"
   ]
  },
  {
   "cell_type": "code",
   "execution_count": 33,
   "metadata": {},
   "outputs": [
    {
     "name": "stdout",
     "output_type": "stream",
     "text": [
      "Tuning hyper-parameters\n",
      "\n",
      "Best parameters set found during training:  {'C': 10, 'coef0': 1, 'degree': 5, 'gamma': 'auto', 'kernel': 'poly'}\n",
      "\n",
      "Grid scores on train set:\n",
      "\n",
      "0.369 (+/-0.020) for {'C': 1, 'gamma': 0.001, 'kernel': 'rbf'}\n",
      "0.234 (+/-0.039) for {'C': 1, 'gamma': 0.0001, 'kernel': 'rbf'}\n",
      "0.391 (+/-0.039) for {'C': 10, 'gamma': 0.001, 'kernel': 'rbf'}\n",
      "0.362 (+/-0.020) for {'C': 10, 'gamma': 0.0001, 'kernel': 'rbf'}\n",
      "0.387 (+/-0.034) for {'C': 1, 'coef0': 1, 'degree': 1, 'gamma': 'auto', 'kernel': 'poly'}\n",
      "0.473 (+/-0.035) for {'C': 1, 'coef0': 1, 'degree': 5, 'gamma': 'auto', 'kernel': 'poly'}\n",
      "0.393 (+/-0.051) for {'C': 10, 'coef0': 1, 'degree': 1, 'gamma': 'auto', 'kernel': 'poly'}\n",
      "0.473 (+/-0.037) for {'C': 10, 'coef0': 1, 'degree': 5, 'gamma': 'auto', 'kernel': 'poly'}\n",
      "\n",
      "Detailed classification report (scores computed on the test set):\n",
      "\n",
      "              precision    recall  f1-score   support\n",
      "\n",
      "         0.0       0.78      0.89      0.83        61\n",
      "         1.0       0.45      0.57      0.50        63\n",
      "         2.0       0.40      0.48      0.44        54\n",
      "         3.0       0.42      0.29      0.34        72\n",
      "         4.0       0.40      0.41      0.41        58\n",
      "         5.0       0.68      0.50      0.58        60\n",
      "\n",
      "    accuracy                           0.52       368\n",
      "   macro avg       0.52      0.52      0.52       368\n",
      "weighted avg       0.52      0.52      0.51       368\n",
      "\n"
     ]
    }
   ],
   "source": [
    "from sklearn import svm\n",
    "\n",
    "tuned_parameters = [{'kernel': ['rbf'], 'gamma': [1e-3, 1e-4],\n",
    "                     'C': [1, 10]},\n",
    "                    {'kernel': ['poly'], 'C': [1, 10],'coef0' : [1], 'gamma': ['auto'], 'degree': [1, 5]}]\n",
    "\n",
    "\n",
    "print(\"Tuning hyper-parameters\")\n",
    "print()\n",
    "\n",
    "clf = GridSearchCV(\n",
    "    estimator = svm.SVC(), param_grid=tuned_parameters)\n",
    "clf.fit(X_train, y_train)\n",
    "\n",
    "print(\"Best parameters set found during training: \", clf.best_params_)\n",
    "print()\n",
    "print(\"Grid scores on train set:\")\n",
    "print()\n",
    "means = clf.cv_results_['mean_test_score']\n",
    "stds = clf.cv_results_['std_test_score']\n",
    "for mean, std, params in zip(means, stds, clf.cv_results_['params']):\n",
    "    print(\"%0.3f (+/-%0.03f) for %r\"\n",
    "          % (mean, std * 2, params))\n",
    "print()\n",
    "print(\"Detailed classification report (scores computed on the test set):\")\n",
    "print()\n",
    "y_true, y_pred = y_test, clf.predict(X_test)\n",
    "print(classification_report(y_true, y_pred))"
   ]
  },
  {
   "cell_type": "markdown",
   "metadata": {},
   "source": [
    "##### Ensemble Learning"
   ]
  },
  {
   "cell_type": "code",
   "execution_count": 34,
   "metadata": {},
   "outputs": [
    {
     "name": "stdout",
     "output_type": "stream",
     "text": [
      "# Tuning hyper-parameters for precision\n",
      "\n",
      "Best parameters set found on development set:\n",
      "\n",
      "{'n_estimators': 1000}\n",
      "\n",
      "Grid scores on development set:\n",
      "\n",
      "0.556 (+/-0.044) for {'n_estimators': 10}\n",
      "0.616 (+/-0.042) for {'n_estimators': 100}\n",
      "0.618 (+/-0.036) for {'n_estimators': 500}\n",
      "0.627 (+/-0.033) for {'n_estimators': 1000}\n",
      "0.624 (+/-0.054) for {'n_estimators': 3000}\n",
      "\n",
      "Detailed classification report:\n",
      "\n",
      "The model is trained on the full development set.\n",
      "The scores are computed on the full evaluation set.\n",
      "\n",
      "              precision    recall  f1-score   support\n",
      "\n",
      "         0.0       0.77      1.00      0.87        61\n",
      "         1.0       0.75      0.81      0.78        63\n",
      "         2.0       0.65      0.69      0.67        54\n",
      "         3.0       0.57      0.40      0.47        72\n",
      "         4.0       0.45      0.33      0.38        58\n",
      "         5.0       0.68      0.80      0.73        60\n",
      "\n",
      "    accuracy                           0.67       368\n",
      "   macro avg       0.64      0.67      0.65       368\n",
      "weighted avg       0.64      0.67      0.65       368\n",
      "\n",
      "\n",
      "# Tuning hyper-parameters for recall\n",
      "\n",
      "Best parameters set found on development set:\n",
      "\n",
      "{'n_estimators': 1000}\n",
      "\n",
      "Grid scores on development set:\n",
      "\n",
      "0.582 (+/-0.064) for {'n_estimators': 10}\n",
      "0.629 (+/-0.041) for {'n_estimators': 100}\n",
      "0.637 (+/-0.031) for {'n_estimators': 500}\n",
      "0.645 (+/-0.052) for {'n_estimators': 1000}\n",
      "0.644 (+/-0.042) for {'n_estimators': 3000}\n",
      "\n",
      "Detailed classification report:\n",
      "\n",
      "The model is trained on the full development set.\n",
      "The scores are computed on the full evaluation set.\n",
      "\n",
      "              precision    recall  f1-score   support\n",
      "\n",
      "         0.0       0.78      1.00      0.88        61\n",
      "         1.0       0.72      0.81      0.76        63\n",
      "         2.0       0.65      0.69      0.67        54\n",
      "         3.0       0.54      0.36      0.43        72\n",
      "         4.0       0.43      0.34      0.38        58\n",
      "         5.0       0.66      0.75      0.70        60\n",
      "\n",
      "    accuracy                           0.65       368\n",
      "   macro avg       0.63      0.66      0.64       368\n",
      "weighted avg       0.63      0.65      0.63       368\n",
      "\n",
      "\n"
     ]
    }
   ],
   "source": [
    "from sklearn.ensemble import RandomForestClassifier\n",
    "\n",
    "tuned_parameters = {'n_estimators': [10,100,500,1000,3000]}\n",
    "\n",
    "scores = ['precision', 'recall']\n",
    "\n",
    "for score in scores:\n",
    "    print(\"# Tuning hyper-parameters for %s\" % score)\n",
    "    print()\n",
    "\n",
    "    clf = GridSearchCV(RandomForestClassifier(), tuned_parameters, scoring='%s_macro' % score, cv=5)\n",
    "    clf.fit(X_train, y_train)\n",
    "\n",
    "    print(\"Best parameters set found on development set:\")\n",
    "    print()\n",
    "    print(clf.best_params_)\n",
    "    print()\n",
    "    print(\"Grid scores on development set:\")\n",
    "    print()\n",
    "    means = clf.cv_results_['mean_test_score']\n",
    "    stds = clf.cv_results_['std_test_score']\n",
    "    for mean, std, params in zip(means, stds, clf.cv_results_['params']):\n",
    "        print(\"%0.3f (+/-%0.03f) for %r\"\n",
    "              % (mean, std * 2, params))\n",
    "    print()\n",
    "\n",
    "    print(\"Detailed classification report:\")\n",
    "    print()\n",
    "    print(\"The model is trained on the full development set.\")\n",
    "    print(\"The scores are computed on the full evaluation set.\")\n",
    "    print()\n",
    "    y_true, y_pred = y_test, clf.predict(X_test)\n",
    "    print(classification_report(y_true, y_pred))\n",
    "    print()"
   ]
  },
  {
   "cell_type": "markdown",
   "metadata": {},
   "source": [
    "Best parameters set found on development set:\n",
    "\n",
    "{'n_estimators': 3000}"
   ]
  },
  {
   "cell_type": "markdown",
   "metadata": {},
   "source": [
    "##### Boosting"
   ]
  },
  {
   "cell_type": "code",
   "execution_count": 35,
   "metadata": {},
   "outputs": [
    {
     "name": "stdout",
     "output_type": "stream",
     "text": [
      "# Tuning hyper-parameters for precision\n",
      "\n",
      "Best parameters set found on development set:\n",
      "\n",
      "{'learning_rate': 0.1, 'n_estimators': 1000}\n",
      "\n",
      "Grid scores on development set:\n",
      "\n",
      "0.389 (+/-0.064) for {'learning_rate': 0.001, 'n_estimators': 100}\n",
      "0.456 (+/-0.052) for {'learning_rate': 0.001, 'n_estimators': 1000}\n",
      "0.419 (+/-0.057) for {'learning_rate': 0.005, 'n_estimators': 100}\n",
      "0.516 (+/-0.055) for {'learning_rate': 0.005, 'n_estimators': 1000}\n",
      "0.463 (+/-0.051) for {'learning_rate': 0.01, 'n_estimators': 100}\n",
      "0.547 (+/-0.074) for {'learning_rate': 0.01, 'n_estimators': 1000}\n",
      "0.558 (+/-0.072) for {'learning_rate': 0.1, 'n_estimators': 100}\n",
      "0.592 (+/-0.057) for {'learning_rate': 0.1, 'n_estimators': 1000}\n",
      "\n",
      "Detailed classification report:\n",
      "\n",
      "The model is trained on the full development set.\n",
      "The scores are computed on the full evaluation set.\n",
      "\n",
      "              precision    recall  f1-score   support\n",
      "\n",
      "         0.0       0.81      0.93      0.87        61\n",
      "         1.0       0.73      0.59      0.65        63\n",
      "         2.0       0.53      0.56      0.54        54\n",
      "         3.0       0.43      0.42      0.43        72\n",
      "         4.0       0.35      0.38      0.37        58\n",
      "         5.0       0.58      0.57      0.57        60\n",
      "\n",
      "    accuracy                           0.57       368\n",
      "   macro avg       0.57      0.57      0.57       368\n",
      "weighted avg       0.57      0.57      0.57       368\n",
      "\n",
      "\n",
      "# Tuning hyper-parameters for recall\n",
      "\n",
      "Best parameters set found on development set:\n",
      "\n",
      "{'learning_rate': 0.1, 'n_estimators': 1000}\n",
      "\n",
      "Grid scores on development set:\n",
      "\n",
      "0.403 (+/-0.015) for {'learning_rate': 0.001, 'n_estimators': 100}\n",
      "0.480 (+/-0.033) for {'learning_rate': 0.001, 'n_estimators': 1000}\n",
      "0.443 (+/-0.036) for {'learning_rate': 0.005, 'n_estimators': 100}\n",
      "0.535 (+/-0.044) for {'learning_rate': 0.005, 'n_estimators': 1000}\n",
      "0.486 (+/-0.036) for {'learning_rate': 0.01, 'n_estimators': 100}\n",
      "0.559 (+/-0.068) for {'learning_rate': 0.01, 'n_estimators': 1000}\n",
      "0.566 (+/-0.066) for {'learning_rate': 0.1, 'n_estimators': 100}\n",
      "0.590 (+/-0.056) for {'learning_rate': 0.1, 'n_estimators': 1000}\n",
      "\n",
      "Detailed classification report:\n",
      "\n",
      "The model is trained on the full development set.\n",
      "The scores are computed on the full evaluation set.\n",
      "\n",
      "              precision    recall  f1-score   support\n",
      "\n",
      "         0.0       0.81      0.93      0.87        61\n",
      "         1.0       0.73      0.59      0.65        63\n",
      "         2.0       0.53      0.56      0.54        54\n",
      "         3.0       0.43      0.42      0.43        72\n",
      "         4.0       0.35      0.38      0.37        58\n",
      "         5.0       0.58      0.57      0.57        60\n",
      "\n",
      "    accuracy                           0.57       368\n",
      "   macro avg       0.57      0.57      0.57       368\n",
      "weighted avg       0.57      0.57      0.57       368\n",
      "\n",
      "\n"
     ]
    }
   ],
   "source": [
    "from sklearn.ensemble import GradientBoostingClassifier\n",
    "\n",
    "tuned_parameters = {'n_estimators': [100,1000],'learning_rate': [0.001,0.005,0.01,0.1]}\n",
    "\n",
    "scores = ['precision', 'recall']\n",
    "\n",
    "for score in scores:\n",
    "    print(\"# Tuning hyper-parameters for %s\" % score)\n",
    "    print()\n",
    "\n",
    "    clf = GridSearchCV(GradientBoostingClassifier(), tuned_parameters, scoring='%s_macro' % score, cv=5)\n",
    "    clf.fit(X_train, y_train)\n",
    "\n",
    "    print(\"Best parameters set found on development set:\")\n",
    "    print()\n",
    "    print(clf.best_params_)\n",
    "    print()\n",
    "    print(\"Grid scores on development set:\")\n",
    "    print()\n",
    "    means = clf.cv_results_['mean_test_score']\n",
    "    stds = clf.cv_results_['std_test_score']\n",
    "    for mean, std, params in zip(means, stds, clf.cv_results_['params']):\n",
    "        print(\"%0.3f (+/-%0.03f) for %r\"\n",
    "              % (mean, std * 2, params))\n",
    "    print()\n",
    "\n",
    "    print(\"Detailed classification report:\")\n",
    "    print()\n",
    "    print(\"The model is trained on the full development set.\")\n",
    "    print(\"The scores are computed on the full evaluation set.\")\n",
    "    print()\n",
    "    y_true, y_pred = y_test, clf.predict(X_test)\n",
    "    print(classification_report(y_true, y_pred))\n",
    "    print()"
   ]
  },
  {
   "cell_type": "markdown",
   "metadata": {},
   "source": [
    "Best parameters set found on development set:\n",
    "\n",
    "{'learning_rate': 0.1, 'n_estimators': 100}"
   ]
  },
  {
   "cell_type": "markdown",
   "metadata": {},
   "source": [
    "##### MLPNs"
   ]
  },
  {
   "cell_type": "code",
   "execution_count": 36,
   "metadata": {},
   "outputs": [
    {
     "name": "stdout",
     "output_type": "stream",
     "text": [
      "# Tuning hyper-parameters for precision\n",
      "\n",
      "Best parameters set found during training:  {'hidden_layer_sizes': 100, 'max_iter': 10000}\n",
      "\n",
      "Grid scores on train set:\n",
      "\n",
      "0.497 (+/-0.060) for {'hidden_layer_sizes': 100, 'max_iter': 10000}\n",
      "0.411 (+/-0.102) for {'hidden_layer_sizes': (5, 5, 5), 'max_iter': 10000}\n",
      "0.393 (+/-0.054) for {'hidden_layer_sizes': (10, 10, 5), 'max_iter': 10000}\n",
      "\n",
      "Detailed classification report (scores computed on the test set):\n",
      "\n",
      "              precision    recall  f1-score   support\n",
      "\n",
      "         0.0       0.76      0.85      0.81        61\n",
      "         1.0       0.57      0.56      0.56        63\n",
      "         2.0       0.39      0.39      0.39        54\n",
      "         3.0       0.30      0.25      0.27        72\n",
      "         4.0       0.33      0.33      0.33        58\n",
      "         5.0       0.54      0.62      0.58        60\n",
      "\n",
      "    accuracy                           0.49       368\n",
      "   macro avg       0.48      0.50      0.49       368\n",
      "weighted avg       0.48      0.49      0.49       368\n",
      "\n",
      "# Tuning hyper-parameters for recall\n",
      "\n",
      "Best parameters set found during training:  {'hidden_layer_sizes': 100, 'max_iter': 10000}\n",
      "\n",
      "Grid scores on train set:\n",
      "\n",
      "0.504 (+/-0.029) for {'hidden_layer_sizes': 100, 'max_iter': 10000}\n",
      "0.411 (+/-0.014) for {'hidden_layer_sizes': (5, 5, 5), 'max_iter': 10000}\n",
      "0.451 (+/-0.067) for {'hidden_layer_sizes': (10, 10, 5), 'max_iter': 10000}\n",
      "\n",
      "Detailed classification report (scores computed on the test set):\n",
      "\n",
      "              precision    recall  f1-score   support\n",
      "\n",
      "         0.0       0.81      0.89      0.84        61\n",
      "         1.0       0.54      0.52      0.53        63\n",
      "         2.0       0.31      0.37      0.34        54\n",
      "         3.0       0.32      0.19      0.24        72\n",
      "         4.0       0.39      0.50      0.44        58\n",
      "         5.0       0.58      0.55      0.56        60\n",
      "\n",
      "    accuracy                           0.50       368\n",
      "   macro avg       0.49      0.50      0.49       368\n",
      "weighted avg       0.49      0.50      0.49       368\n",
      "\n"
     ]
    }
   ],
   "source": [
    "from sklearn.neural_network import MLPClassifier\n",
    "\n",
    "# MLPN = MLPClassifier(random_state=1,hidden_layer_sizes=(100), max_iter=10000)\n",
    "\n",
    "tuned_parameters = {'hidden_layer_sizes': [(100),(5,5,5),(10,10,5)], 'max_iter':[10000]}\n",
    "\n",
    "scores = ['precision', 'recall']\n",
    "\n",
    "for score in scores:\n",
    "    print(\"# Tuning hyper-parameters for %s\" % score)\n",
    "    print()\n",
    "\n",
    "    clf = GridSearchCV(MLPClassifier(), tuned_parameters, scoring='%s_macro' % score, cv=5) #cv stands for cross validation. I used here 5 fold cross validation\n",
    "    clf.fit(X_train, y_train)\n",
    "\n",
    "    print(\"Best parameters set found during training: \", clf.best_params_)\n",
    "    print()\n",
    "    print(\"Grid scores on train set:\")\n",
    "    print()\n",
    "    means = clf.cv_results_['mean_test_score']\n",
    "    stds = clf.cv_results_['std_test_score']\n",
    "    for mean, std, params in zip(means, stds, clf.cv_results_['params']):\n",
    "        print(\"%0.3f (+/-%0.03f) for %r\"\n",
    "              % (mean, std * 2, params))\n",
    "    print()\n",
    "    print(\"Detailed classification report (scores computed on the test set):\")\n",
    "    print()\n",
    "    y_true, y_pred = y_test, clf.predict(X_test)\n",
    "    print(classification_report(y_true, y_pred))"
   ]
  },
  {
   "cell_type": "markdown",
   "metadata": {},
   "source": [
    "#### 3.3 Evaluation (up to 2/8 points)\n",
    "Write the necessary code to perform an adequate model evaluation of the selected model. Confusion matrix and classsification reports are welcome. \n",
    "<b>REMEMBER to describe with your own words each step. Perfectly working code with no comments and no discussion correpsonds to 0 POINTS</b>"
   ]
  },
  {
   "cell_type": "markdown",
   "metadata": {},
   "source": [
    "##### Decision Tree evaluation"
   ]
  },
  {
   "cell_type": "code",
   "execution_count": 37,
   "metadata": {},
   "outputs": [
    {
     "data": {
      "text/plain": [
       "Text(0.5, 15.0, 'Predicted class')"
      ]
     },
     "execution_count": 37,
     "metadata": {},
     "output_type": "execute_result"
    },
    {
     "data": {
      "image/png": "[encoded data removed]",
      "text/plain": [
       "<Figure size 432x288 with 2 Axes>"
      ]
     },
     "metadata": {
      "needs_background": "light"
     },
     "output_type": "display_data"
    }
   ],
   "source": [
    "from sklearn.metrics import confusion_matrix, accuracy_score\n",
    "\n",
    "best_tree_classifier = tree.DecisionTreeClassifier(criterion='gini').fit(X_train, y_train) #we specify here the best hyper parameters found during grid search\n",
    "confusion_mc=confusion_matrix(y_test, best_tree_classifier.predict(X_test))\n",
    "df_confusion_mc= pd.DataFrame(confusion_mc)\n",
    "\n",
    "plt.figure()\n",
    "plt.title('Decision Classifier \\nAccuracy {0:.3f}:'.format(accuracy_score(y_test, best_tree_classifier.predict(X_test))))\n",
    "sns.heatmap(df_confusion_mc, annot=True,square=True,linewidths=1,center=0,linecolor=\"white\", cmap='YlGnBu')\n",
    "plt.ylabel(\"True class\")\n",
    "plt.xlabel(\"Predicted class\")"
   ]
  },
  {
   "cell_type": "markdown",
   "metadata": {},
   "source": [
    "##### Decision Tree with one hot encoding"
   ]
  },
  {
   "cell_type": "code",
   "execution_count": 38,
   "metadata": {},
   "outputs": [
    {
     "data": {
      "text/plain": [
       "Text(0.5, 15.0, 'Predicted class')"
      ]
     },
     "execution_count": 38,
     "metadata": {},
     "output_type": "execute_result"
    },
    {
     "data": {
      "image/png": "[encoded data removed]",
      "text/plain": [
       "<Figure size 432x288 with 2 Axes>"
      ]
     },
     "metadata": {
      "needs_background": "light"
     },
     "output_type": "display_data"
    }
   ],
   "source": [
    "from sklearn.metrics import confusion_matrix, accuracy_score\n",
    "\n",
    "best_tree_classifier = tree.DecisionTreeClassifier(criterion='gini').fit(X_ohe_train, y_ohe_train) #we specify here the best hyper parameters found during grid search\n",
    "confusion_mc=confusion_matrix(y_ohe_test, best_tree_classifier.predict(X_ohe_test))\n",
    "df_confusion_mc= pd.DataFrame(confusion_mc)\n",
    "\n",
    "plt.figure()\n",
    "plt.title('Decision Classifier \\nAccuracy {0:.3f}:'.format(accuracy_score(y_ohe_test, best_tree_classifier.predict(X_ohe_test))))\n",
    "sns.heatmap(df_confusion_mc, annot=True,square=True,linewidths=1,center=0,linecolor=\"white\", cmap='YlGnBu')\n",
    "plt.ylabel(\"True class\")\n",
    "plt.xlabel(\"Predicted class\")"
   ]
  },
  {
   "cell_type": "markdown",
   "metadata": {},
   "source": [
    "##### SVM evaluation"
   ]
  },
  {
   "cell_type": "code",
   "execution_count": 39,
   "metadata": {},
   "outputs": [
    {
     "data": {
      "text/plain": [
       "Text(0.5, 15.0, 'Predicted class')"
      ]
     },
     "execution_count": 39,
     "metadata": {},
     "output_type": "execute_result"
    },
    {
     "data": {
      "image/png": "[encoded data removed]",
      "text/plain": [
       "<Figure size 432x288 with 2 Axes>"
      ]
     },
     "metadata": {
      "needs_background": "light"
     },
     "output_type": "display_data"
    }
   ],
   "source": [
    "best_svm_classifier = svm.SVC(C=10, degree=5, gamma='auto', kernel='poly').fit(X_train, y_train) #we specify here the best hyper parameters found during grid search\n",
    "confusion_mc=confusion_matrix(y_test, best_svm_classifier.predict(X_test))\n",
    "df_confusion_mc= pd.DataFrame(confusion_mc)\n",
    "\n",
    "plt.figure()\n",
    "plt.title('SVM Classifier \\nAccuracy {0:.3f}:'.format(accuracy_score(y_test, best_svm_classifier.predict(X_test))))\n",
    "sns.heatmap(df_confusion_mc, annot=True,square=True,linewidths=1,center=0,linecolor=\"white\", cmap='YlGnBu')\n",
    "plt.ylabel(\"True class\")\n",
    "plt.xlabel(\"Predicted class\")"
   ]
  },
  {
   "cell_type": "markdown",
   "metadata": {},
   "source": [
    "##### SVM evaluation with one hot encoding"
   ]
  },
  {
   "cell_type": "code",
   "execution_count": 40,
   "metadata": {},
   "outputs": [
    {
     "data": {
      "text/plain": [
       "Text(0.5, 15.0, 'Predicted class')"
      ]
     },
     "execution_count": 40,
     "metadata": {},
     "output_type": "execute_result"
    },
    {
     "data": {
      "image/png": "[encoded data removed]",
      "text/plain": [
       "<Figure size 432x288 with 2 Axes>"
      ]
     },
     "metadata": {
      "needs_background": "light"
     },
     "output_type": "display_data"
    }
   ],
   "source": [
    "best_svm_classifier = svm.SVC(C=10, degree=5, gamma='auto', kernel='poly').fit(X_ohe_train, y_ohe_train) #we specify here the best hyper parameters found during grid search\n",
    "confusion_mc=confusion_matrix(y_ohe_test, best_svm_classifier.predict(X_ohe_test))\n",
    "df_confusion_mc= pd.DataFrame(confusion_mc)\n",
    "\n",
    "plt.figure()\n",
    "plt.title('SVM Classifier \\nAccuracy {0:.3f}:'.format(accuracy_score(y_ohe_test, best_svm_classifier.predict(X_ohe_test))))\n",
    "sns.heatmap(df_confusion_mc, annot=True,square=True,linewidths=1,center=0,linecolor=\"white\", cmap='YlGnBu')\n",
    "plt.ylabel(\"True class\")\n",
    "plt.xlabel(\"Predicted class\")"
   ]
  },
  {
   "cell_type": "markdown",
   "metadata": {},
   "source": [
    "##### Random forest evaluation (ensemble method)"
   ]
  },
  {
   "cell_type": "code",
   "execution_count": 41,
   "metadata": {},
   "outputs": [
    {
     "data": {
      "text/plain": [
       "Text(0.5, 15.0, 'Predicted class')"
      ]
     },
     "execution_count": 41,
     "metadata": {},
     "output_type": "execute_result"
    },
    {
     "data": {
      "image/png": "[encoded data removed]",
      "text/plain": [
       "<Figure size 432x288 with 2 Axes>"
      ]
     },
     "metadata": {
      "needs_background": "light"
     },
     "output_type": "display_data"
    }
   ],
   "source": [
    "best_rdmf_classifier = RandomForestClassifier(n_estimators=3000).fit(X_train, y_train) #we specify here the best hyper parameters found during grid search\n",
    "confusion_mc=confusion_matrix(y_test, best_rdmf_classifier.predict(X_test))\n",
    "df_confusion_mc= pd.DataFrame(confusion_mc)\n",
    "\n",
    "plt.figure()\n",
    "plt.title('Rdm forest Classifier \\nAccuracy {0:.3f}:'.format(accuracy_score(y_test, best_rdmf_classifier.predict(X_test))))\n",
    "sns.heatmap(df_confusion_mc, annot=True,square=True,linewidths=1,center=0,linecolor=\"white\", cmap='YlGnBu')\n",
    "plt.ylabel(\"True class\")\n",
    "plt.xlabel(\"Predicted class\")"
   ]
  },
  {
   "cell_type": "markdown",
   "metadata": {},
   "source": [
    "##### Random forest evaluation with ohe (ensemble method)"
   ]
  },
  {
   "cell_type": "code",
   "execution_count": 42,
   "metadata": {},
   "outputs": [
    {
     "data": {
      "text/plain": [
       "Text(0.5, 15.0, 'Predicted class')"
      ]
     },
     "execution_count": 42,
     "metadata": {},
     "output_type": "execute_result"
    },
    {
     "data": {
      "image/png": "[encoded data removed]",
      "text/plain": [
       "<Figure size 432x288 with 2 Axes>"
      ]
     },
     "metadata": {
      "needs_background": "light"
     },
     "output_type": "display_data"
    }
   ],
   "source": [
    "best_rdmf_classifier = RandomForestClassifier(n_estimators=3000).fit(X_ohe_train, y_ohe_train) #we specify here the best hyper parameters found during grid search\n",
    "confusion_mc=confusion_matrix(y_ohe_test, best_svm_classifier.predict(X_ohe_test))\n",
    "df_confusion_mc= pd.DataFrame(confusion_mc)\n",
    "\n",
    "plt.figure()\n",
    "plt.title('Rdm forest Classifier \\nAccuracy {0:.3f}:'.format(accuracy_score(y_ohe_test, best_rdmf_classifier.predict(X_ohe_test))))\n",
    "sns.heatmap(df_confusion_mc, annot=True,square=True,linewidths=1,center=0,linecolor=\"white\", cmap='YlGnBu')\n",
    "plt.ylabel(\"True class\")\n",
    "plt.xlabel(\"Predicted class\")"
   ]
  },
  {
   "cell_type": "markdown",
   "metadata": {},
   "source": [
    "##### Gradient Boost evaluation"
   ]
  },
  {
   "cell_type": "code",
   "execution_count": 43,
   "metadata": {},
   "outputs": [
    {
     "data": {
      "text/plain": [
       "Text(0.5, 15.0, 'Predicted class')"
      ]
     },
     "execution_count": 43,
     "metadata": {},
     "output_type": "execute_result"
    },
    {
     "data": {
      "image/png": "[encoded data removed]",
      "text/plain": [
       "<Figure size 432x288 with 2 Axes>"
      ]
     },
     "metadata": {
      "needs_background": "light"
     },
     "output_type": "display_data"
    }
   ],
   "source": [
    "best_gb_classifier = GradientBoostingClassifier(n_estimators=100, learning_rate=0.1).fit(X_train, y_train) #we specify here the best hyper parameters found during grid search\n",
    "confusion_mc=confusion_matrix(y_test, best_rdmf_classifier.predict(X_test))\n",
    "df_confusion_mc= pd.DataFrame(confusion_mc)\n",
    "\n",
    "plt.figure()\n",
    "plt.title('GB Classifier \\nAccuracy {0:.3f}:'.format(accuracy_score(y_test, best_gb_classifier.predict(X_test))))\n",
    "sns.heatmap(df_confusion_mc, annot=True,square=True,linewidths=1,center=0,linecolor=\"white\", cmap='YlGnBu')\n",
    "plt.ylabel(\"True class\")\n",
    "plt.xlabel(\"Predicted class\")"
   ]
  },
  {
   "cell_type": "markdown",
   "metadata": {},
   "source": [
    "##### Gradient Boost evaluation with ohe"
   ]
  },
  {
   "cell_type": "code",
   "execution_count": 44,
   "metadata": {},
   "outputs": [
    {
     "data": {
      "text/plain": [
       "Text(0.5, 15.0, 'Predicted class')"
      ]
     },
     "execution_count": 44,
     "metadata": {},
     "output_type": "execute_result"
    },
    {
     "data": {
      "image/png": "[encoded data removed]",
      "text/plain": [
       "<Figure size 432x288 with 2 Axes>"
      ]
     },
     "metadata": {
      "needs_background": "light"
     },
     "output_type": "display_data"
    }
   ],
   "source": [
    "best_gb_classifier = GradientBoostingClassifier(n_estimators=100, learning_rate=0.1).fit(X_ohe_train, y_ohe_train) #we specify here the best hyper parameters found during grid search\n",
    "confusion_mc=confusion_matrix(y_ohe_test, best_svm_classifier.predict(X_ohe_test))\n",
    "df_confusion_mc= pd.DataFrame(confusion_mc)\n",
    "\n",
    "plt.figure()\n",
    "plt.title('GB Classifier \\nAccuracy {0:.3f}:'.format(accuracy_score(y_ohe_test, best_gb_classifier.predict(X_ohe_test))))\n",
    "sns.heatmap(df_confusion_mc, annot=True,square=True,linewidths=1,center=0,linecolor=\"white\", cmap='YlGnBu')\n",
    "plt.ylabel(\"True class\")\n",
    "plt.xlabel(\"Predicted class\")"
   ]
  },
  {
   "cell_type": "markdown",
   "metadata": {},
   "source": [
    "##### MLP evaluation"
   ]
  },
  {
   "cell_type": "code",
   "execution_count": 45,
   "metadata": {},
   "outputs": [
    {
     "data": {
      "text/plain": [
       "Text(0.5, 15.0, 'Predicted class')"
      ]
     },
     "execution_count": 45,
     "metadata": {},
     "output_type": "execute_result"
    },
    {
     "data": {
      "image/png": "[encoded data removed]",
      "text/plain": [
       "<Figure size 432x288 with 2 Axes>"
      ]
     },
     "metadata": {
      "needs_background": "light"
     },
     "output_type": "display_data"
    }
   ],
   "source": [
    "best_gb_classifier = MLPClassifier(hidden_layer_sizes=(100), max_iter=10000).fit(X_train, y_train) #we specify here the best hyper parameters found during grid search\n",
    "confusion_mc=confusion_matrix(y_test, best_rdmf_classifier.predict(X_test))\n",
    "df_confusion_mc= pd.DataFrame(confusion_mc)\n",
    "\n",
    "plt.figure()\n",
    "plt.title('MLP Classifier \\nAccuracy {0:.3f}:'.format(accuracy_score(y_test, best_gb_classifier.predict(X_test))))\n",
    "sns.heatmap(df_confusion_mc, annot=True,square=True,linewidths=1,center=0,linecolor=\"white\", cmap='YlGnBu')\n",
    "plt.ylabel(\"True class\")\n",
    "plt.xlabel(\"Predicted class\")"
   ]
  },
  {
   "cell_type": "markdown",
   "metadata": {},
   "source": [
    "##### MLP evaluation with ohe"
   ]
  },
  {
   "cell_type": "code",
   "execution_count": 46,
   "metadata": {},
   "outputs": [
    {
     "data": {
      "text/plain": [
       "Text(0.5, 15.0, 'Predicted class')"
      ]
     },
     "execution_count": 46,
     "metadata": {},
     "output_type": "execute_result"
    },
    {
     "data": {
      "image/png": "[encoded data removed]",
      "text/plain": [
       "<Figure size 432x288 with 2 Axes>"
      ]
     },
     "metadata": {
      "needs_background": "light"
     },
     "output_type": "display_data"
    }
   ],
   "source": [
    "best_mlp_classifier = MLPClassifier(hidden_layer_sizes=(100), max_iter=10000).fit(X_ohe_train, y_ohe_train) #we specify here the best hyper parameters found during grid search\n",
    "confusion_mc=confusion_matrix(y_ohe_test, best_svm_classifier.predict(X_ohe_test))\n",
    "df_confusion_mc= pd.DataFrame(confusion_mc)\n",
    "\n",
    "plt.figure()\n",
    "plt.title('MLP Classifier \\nAccuracy {0:.3f}:'.format(accuracy_score(y_ohe_test, best_mlp_classifier.predict(X_ohe_test))))\n",
    "sns.heatmap(df_confusion_mc, annot=True,square=True,linewidths=1,center=0,linecolor=\"white\", cmap='YlGnBu')\n",
    "plt.ylabel(\"True class\")\n",
    "plt.xlabel(\"Predicted class\")"
   ]
  },
  {
   "cell_type": "markdown",
   "metadata": {},
   "source": [
    "### 4. Summary\n",
    "Provide a summary discussion of your solution <b>(at least 500 words)</b>.\n",
    "\n",
    "<b>This is a mandatory step</b>"
   ]
  },
  {
   "cell_type": "markdown",
   "metadata": {},
   "source": [
    "I believe that the most challenging aspect of this problem is the dataset itself. We often say for machine learning problems “Garbage in, garbage out”. This dataset did not seem of very good quality to me, and required a lot of preprocessing. It had way too much information regarding games length compared to other meaningful features. There were lots of missing values in it and it seemed like the provider of the dataset had already used poor data imputing methods. During the dataset analysis I tried to identify the different problems I could solve with preprocessing. I missed a few, but by chatting with the other students I believe I identified most of them. If this project was done for a company, I would have probably scrapped information from reliable video game media to correct and enlarge the dataset. It would have most likely lead to higher model accuracies. I eliminated a lot of features after an in depth look at them. I could have pushed the preprocessing further by properly dealing with multi categories publishers and genres. Indeed, the method I used just considered multi class like “action,rpg” as class different than both action and rpg. One hot encoding has the advantage of being able to handle these multi classes. I experimented a bit with the different methods of discretization, scaling and normalization. I also decided to experiment with imputers like KNN imputer which comes really handy for categorical data, and used SMOTE to balance the dataset. I had a good intuition regarding the properties of one hot encoding compared to ordinal encoding because I observed better results with it. I was afraid that some algorithms would not be able to handle that many features (it really grows fast when there are a lot of different categories) but I had kept only the most meaningful features so that appeared not to be a problem. The only thing I did not try was increasing the number of bins for the discretization of the target class. Regarding the performance of the difference model, I expected Random Forest or eventually gradient boost to perform the best. I believe that random forest is a relatively forgiving model, able to handle datasets with highly correlated features and relatively little preprocessing, compared to methods like SVM or neural networks. MLP was the only algorithm which I didn’t really know how to tune. I could not bruteforce the parameters possibilities with my computer because the gridsearch would have taken way too much time. I was also limited by the number of samples in the dataset which prevented me to build a big network because it would not have been able to learn properly. Random classifier effectively ended up being the algorithm with the highest accuracy (67 %). Note that since the classes are balanced, micro and macro accuracies should be really close (but not exactly equal because the splitting does not produce balanced test and train sets). I was surprised by the performance of the decision tree classifier given how simple its architecture is. I am satisfied with my results, even though I initially expected higher accuracies."
   ]
  },
  {
   "cell_type": "code",
   "execution_count": null,
   "metadata": {},
   "outputs": [],
   "source": []
  }
 ],
 "metadata": {
  "kernelspec": {
   "display_name": "Python 3",
   "language": "python",
   "name": "python3"
  },
  "language_info": {
   "codemirror_mode": {
    "name": "ipython",
    "version": 3
   },
   "file_extension": ".py",
   "mimetype": "text/x-python",
   "name": "python",
   "nbconvert_exporter": "python",
   "pygments_lexer": "ipython3",
   "version": "3.8.7"
  },
  "toc-autonumbering": false,
  "toc-showcode": false,
  "toc-showmarkdowntxt": false
 },
 "nbformat": 4,
 "nbformat_minor": 4
}
